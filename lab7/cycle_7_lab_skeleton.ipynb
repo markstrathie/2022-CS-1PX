{
 "cells": [
  {
   "cell_type": "markdown",
   "metadata": {
    "id": "0FsNd9XyJ-7n"
   },
   "source": [
    "\n",
    "# Cycle 7 Lab Exercises - Sorting\n",
    "\n",
    "\n",
    "This week, you will practice tracing BubbleSort, implement an iterative version of selection sort, and then implement a sorting algorithm you probably have not seen before.\n",
    "\n",
    "\n",
    "### Task 1 - Understanding BubbleSort: \n",
    "Look back at the BubbleSort algorithm we looked at in class, and trace its execution when called with:\n",
    "bubbleSort([2, 1, 3, 5, 1, 7])\n",
    "Show each step.  How many comparisons does it perform? always same as length of list\n",
    "\n",
    "Add a line to bubbleSort to count how many swaps it performs, and then try it out on a variety of lists.  What is worst - a sorted list, a random list, or a reverse-sorted list?\n",
    "reverse sorted is worst\n"
   ]
  },
  {
   "cell_type": "code",
   "execution_count": 4,
   "metadata": {
    "id": "VWI0Fv3lKJn3"
   },
   "outputs": [
    {
     "name": "stdout",
     "output_type": "stream",
     "text": [
      "[4, 2, 6, 4, 1, 1, 3, 7]\n",
      "[2, 4, 4, 1, 1, 3, 6, 7]\n",
      "[2, 4, 1, 1, 3, 4, 6, 7]\n",
      "[2, 1, 1, 3, 4, 4, 6, 7]\n",
      "[1, 1, 2, 3, 4, 4, 6, 7]\n",
      "[1, 1, 2, 3, 4, 4, 6, 7]\n",
      "[1, 1, 2, 3, 4, 4, 6, 7]\n",
      "[1, 1, 2, 3, 4, 4, 6, 7]\n"
     ]
    },
    {
     "data": {
      "text/plain": [
       "([1, 1, 2, 3, 4, 4, 6, 7], 13)"
      ]
     },
     "execution_count": 4,
     "metadata": {},
     "output_type": "execute_result"
    }
   ],
   "source": [
    "def bubbleSort(myList):\n",
    "    n = len(myList)\n",
    "    swaps = 0\n",
    "    for i in range(n):\n",
    "        print(myList)\n",
    "        for j in range(0,n-i-1):\n",
    "            if myList[j] > myList[j+1]:\n",
    "                tmp = myList[j]\n",
    "                myList [j] = myList[j+1]\n",
    "                myList[j+1] = tmp\n",
    "                swaps += 1\n",
    "    return myList, swaps\n",
    "                \n",
    "bubbleSort([4,2,6,4,1,1,3,7])"
   ]
  },
  {
   "cell_type": "markdown",
   "metadata": {
    "id": "R4Kl_umbKAJ5"
   },
   "source": [
    "\n",
    "\n",
    "### Task 2 - Implementing Iterative SelectionSort:\n",
    "We talked briefly about a recursive SelectionSort algorithm in lecture.  I would like you to implement an iterative version of SelectionSort.  Feel free to look at the recursive version we went over, but try to avoid looking up an iterative version and copying it.  It may help you to write out the steps that Selection Sort should take in its execution and then try to transfer those to code.  \n",
    "\n",
    "\n"
   ]
  },
  {
   "cell_type": "code",
   "execution_count": 49,
   "metadata": {
    "id": "tdRi7O16KQJX"
   },
   "outputs": [
    {
     "name": "stdout",
     "output_type": "stream",
     "text": [
      "[1, 2, 3, 4, 5]\n"
     ]
    }
   ],
   "source": [
    "def swap(myList, i, j):\n",
    "    tmp = myList[i]\n",
    "    myList[i] = myList[j]\n",
    "    myList[j] = tmp\n",
    "\n",
    "def findMinimumInd(myList):\n",
    "    if len(myList) <=0:\n",
    "        return None\n",
    "    smallestInd = 0\n",
    "    for i in range(len(myList)):\n",
    "        if myList[i] < myList[smallestInd]:\n",
    "            smallestInd = i\n",
    "    return smallestInd\n",
    "\n",
    "def selectionIterative(myList):\n",
    "    for i in range(len(myList)):\n",
    "        smallestInd = findMinimumInd(myList[i:])+i\n",
    "        swap(myList, i, smallestInd)\n",
    "    return myList\n",
    "\n",
    "def selectionRecursive(myList)\n",
    "    if myList < 1:\n",
    "        return 0\n",
    "    else:\n",
    "        \n",
    "\n",
    "\n",
    "myList = [5,4,3,2,1]\n",
    "print(selectionIterative(myList))"
   ]
  },
  {
   "cell_type": "markdown",
   "metadata": {
    "id": "AulAEHkWKMRv"
   },
   "source": [
    "### Task 3 - Implementing a new sorting algorithm - the odd-even sort\n",
    "The odd-even sort algorithm is based on repeatedly making two passes on a list: \n",
    "1.  The first pass examines pairs of items a[j], a[j+1] where j is odd. 2. \n",
    "2. The second pass examines pairs of items a[i], a[i+1] where i is even. 3. \n",
    "3. In each pass, the following occurs: if the contents of the pair being examined are unordered, then the elements are swapped. 4. \n",
    "4. Repeat passes until the list is sorted. \n",
    "\n",
    "\n",
    "Consider the following list: [1,7,5,2,6] \n",
    "First pass \n",
    "* Start with odd position \n",
    "   * Examine a[1] and a[2], compare contents of this pair (7 and 5): swap elements. Resulting list: [1,5,7,2,6] \n",
    "   * Examine a[3] and a[4], compare contents of this pair (2 and 6): do not swap elements. \n",
    "* Start with even position \n",
    "   * Examine a[0] and a[1], compare contents of this pair (1 and 5): do not swap elements. \n",
    "   * Examine a[2] and a[3], compare contents of this pair (7 and 2): swap elements. Resulting list: [1,5,2,7,6] \n",
    "Repeat until list is sorted. "
   ]
  },
  {
   "cell_type": "code",
   "execution_count": 62,
   "metadata": {
    "id": "yv_ynCgBKPLX"
   },
   "outputs": [
    {
     "name": "stdout",
     "output_type": "stream",
     "text": [
      "[0, 1, 1, 2, 2, 3, 3, 3, 4, 5, 6, 6, 8, 8, 9]\n"
     ]
    }
   ],
   "source": [
    "def oddEvenSort(myList):\n",
    "    n = len(myList)\n",
    "    for i in range(n):\n",
    "        for j in range(1,n,2):\n",
    "            if j != n-1:\n",
    "                if myList[j] > myList[j+1]:\n",
    "                    tmp = myList[j]\n",
    "                    myList[j] = myList[j+1]\n",
    "                    myList[j+1] = tmp\n",
    "        for k in range(0,n,2):\n",
    "            if k != n-1:\n",
    "                if myList[k] > myList[k+1]:\n",
    "                    tmp = myList[k]\n",
    "                    myList[k] = myList[k+1]\n",
    "                    myList[k+1] = tmp\n",
    "    return myList\n",
    "\n",
    "def bubbleSort(myList):\n",
    "    n = len(myList)\n",
    "    for i in range(n):\n",
    "        for j in range(0,n-i-1):\n",
    "            if myList[j] > myList[j+1]:\n",
    "                tmp = myList[j]\n",
    "                myList[j] = myList[j+1]\n",
    "                myList[j+1] = tmp\n",
    "    return myList\n",
    "                \n",
    "myList = [9,4,1,6,3,8,0,3,2,5,8,6,3,2,1]\n",
    "print(oddEvenSort(myList))"
   ]
  },
  {
   "cell_type": "markdown",
   "metadata": {
    "id": "CWb3FgBvKAMw"
   },
   "source": []
  }
 ],
 "metadata": {
  "colab": {
   "collapsed_sections": [],
   "name": "cycle_7_lab_skeleton.ipynb",
   "provenance": []
  },
  "kernelspec": {
   "display_name": "Python 3 (ipykernel)",
   "language": "python",
   "name": "python3"
  },
  "language_info": {
   "codemirror_mode": {
    "name": "ipython",
    "version": 3
   },
   "file_extension": ".py",
   "mimetype": "text/x-python",
   "name": "python",
   "nbconvert_exporter": "python",
   "pygments_lexer": "ipython3",
   "version": "3.9.7"
  }
 },
 "nbformat": 4,
 "nbformat_minor": 1
}
