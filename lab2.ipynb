{
 "cells": [
  {
   "cell_type": "markdown",
   "id": "93370058",
   "metadata": {},
   "source": [
    "# CS1PX Lab Exercises Cycle 2: Recursion and higher-order functions\n",
    "\n",
    "Aims:\n",
    "1.\tPractice writing recursive functions \n",
    "    a.\tMake sure you can identify the base case and the recursive case\n",
    "    b.\tTracing recursion - be sure you can trace your code\n",
    "2.\tPractice using higher-order functions \n",
    "\n",
    "## This week’s exercises \n",
    "This week may be challenging - both recursion and higher-order functions can be tricky to get your head around the first time!  Practice will help.  Task 1 is the most fundamental of the three tasks, so focus on getting those done if you are struggling for time.  \n",
    "You may find it useful to do some planning on paper before you start working on your machine. \n",
    " \n",
    "### Task 1 - Recursive functions\n",
    "\n",
    "In all three cases, think about your base case and recursive case, then write your code (on paper first if that helps you), and be sure you can trace your code and draw stack traces.\n",
    "1. Write a function `recursive_exponent(base, exp)` that takes in a base and an exp as parameters and recursively computes baseexp. You are not allowed to use the ** operator! "
   ]
  },
  {
   "cell_type": "code",
   "execution_count": 3,
   "id": "4eee706c",
   "metadata": {},
   "outputs": [
    {
     "name": "stdout",
     "output_type": "stream",
     "text": [
      "16\n"
     ]
    }
   ],
   "source": [
    "def recursive_exponent(base, exp):\n",
    "    if exp == 0:\n",
    "        return 1\n",
    "    elif exp == 1:\n",
    "        return base\n",
    "    else:\n",
    "        return base * recursive_exponent(base, (exp-1))\n",
    "        \n",
    "print(recursive_exponent(2, 4))\n",
    "        "
   ]
  },
  {
   "cell_type": "markdown",
   "id": "73457acb",
   "metadata": {},
   "source": [
    "2.\tWrite a function `recursive_countdown(n)` using recursion to print numbers from n to 0.  (Where n will be a positive integer parameter) "
   ]
  },
  {
   "cell_type": "code",
   "execution_count": 4,
   "id": "060e623d",
   "metadata": {},
   "outputs": [
    {
     "name": "stdout",
     "output_type": "stream",
     "text": [
      "10\n",
      "9\n",
      "8\n",
      "7\n",
      "6\n",
      "5\n",
      "4\n",
      "3\n",
      "2\n",
      "1\n",
      "0\n"
     ]
    }
   ],
   "source": [
    "def recursive_countdown(n):\n",
    "    if n == 0:\n",
    "        print(0)\n",
    "    else:\n",
    "        print(n)\n",
    "        recursive_countdown(n-1)\n",
    "        \n",
    "recursive_countdown(10)"
   ]
  },
  {
   "cell_type": "markdown",
   "id": "aa3e1eca",
   "metadata": {},
   "source": [
    "3.\tWe can determine how many digits a positive integer has by repeatedly dividing by 10 (without keeping the remainder) until the number is less than 10, consisting of only 1 digit.\n",
    "Write down a recursive algorithm to implement this approach, and implement it in Python. \n",
    " (Hint:  If n is an integer, n//10 will be an integer without the fractional part in Python.)  \n"
   ]
  },
  {
   "cell_type": "code",
   "execution_count": 9,
   "id": "0f042439",
   "metadata": {},
   "outputs": [
    {
     "data": {
      "text/plain": [
       "3"
      ]
     },
     "execution_count": 9,
     "metadata": {},
     "output_type": "execute_result"
    }
   ],
   "source": [
    "def digits(n):\n",
    "    if n < 10:\n",
    "        return 1\n",
    "    else:\n",
    "        return 1 + digits(n//10)\n",
    "        \n",
    "digits(2700)\n",
    "        "
   ]
  },
  {
   "cell_type": "markdown",
   "id": "50094e92",
   "metadata": {},
   "source": [
    "### Task 2 – Higher-Order Functions  \n",
    "\n",
    "Write the following higher-order function in Python:\n",
    "1.\t`apply_fun_on_dict(a, myfun)`: Write a function that applies a function on the values of a dictionary (e.g., calculates power of each value). \n",
    " \n",
    "Let’s create this function that we would like to apply on the values of the dictionary: \n",
    "```\n",
    "def myfun(elem): \n",
    "   return elem**2 \n",
    "```\n",
    " \n",
    "Then \n",
    "```\n",
    "a = {'apple': 6, 'banana': 2, 'hello': 5, 'world': 4} \n",
    "applyfunondict(a, myfun)\n",
    "```\n",
    "\n",
    "Should give:\n",
    "`{'apple': 36, 'banana': 4, 'hello': 25, 'world': 16} `\n",
    " "
   ]
  },
  {
   "cell_type": "code",
   "execution_count": 15,
   "id": "734da390",
   "metadata": {},
   "outputs": [
    {
     "data": {
      "text/plain": [
       "{'apple': 36, 'banana': 4, 'hello': 25, 'world': 16}"
      ]
     },
     "execution_count": 15,
     "metadata": {},
     "output_type": "execute_result"
    }
   ],
   "source": [
    "def myfun(elem):\n",
    "    return elem**2\n",
    "\n",
    "a = {'apple': 6, 'banana': 2, 'hello': 5, 'world': 4} \n",
    "\n",
    "def applyfunondict(dict1, fun):\n",
    "    newdict = {}\n",
    "    for key in dict1:\n",
    "        newdict[key] = myfun(dict1[key])\n",
    "    \n",
    "    return newdict\n",
    "    \n",
    "applyfunondict(a, myfun)\n",
    "        \n",
    "    "
   ]
  },
  {
   "cell_type": "markdown",
   "id": "9a09662c",
   "metadata": {},
   "source": [
    "### Task 3 - Challenge task\n",
    "Let's combine recursion and higher-order functions to do something a little more challenging.  \n",
    "\n",
    "Write the following higher-order function in Python:\n",
    "\n",
    "-\t`recursive_apply_fun_on_dict(a, myfun)`: Write a function that applies a function on the values of a dictionary (e.g., calculates power of each value) if the values are integers, but if the values of the dictionary are themselves dictionaries then it applies the function on the values of that dictionary recursively.  So, for example: \n",
    "\n",
    "```\n",
    "a = {'apple': 6, 'banana': 2, 'hello': 5, 'world': 4, 'suzanne': {'orange': 10, 'gerald': {'cat': 6}}} \n",
    "applyfunondict(a, myfun)\n",
    "```\n",
    "\n",
    "Should give:\n",
    "`{'apple': 36, 'banana': 4, 'hello': 25, 'world': 16, 'suzanne': {'orange': 100, 'gerald': {'cat': 36}}} "
   ]
  },
  {
   "cell_type": "code",
   "execution_count": 21,
   "id": "ada2a11c",
   "metadata": {},
   "outputs": [
    {
     "data": {
      "text/plain": [
       "{'apple': 36,\n",
       " 'banana': 4,\n",
       " 'hello': 25,\n",
       " 'world': 16,\n",
       " 'suzanne': {'orange': 100, 'gerald': {'cat': 36}}}"
      ]
     },
     "execution_count": 21,
     "metadata": {},
     "output_type": "execute_result"
    }
   ],
   "source": [
    "def myfun(elem):\n",
    "    return elem**2\n",
    "\n",
    "a = {'apple': 6, 'banana': 2, 'hello': 5, 'world': 4, 'suzanne': {'orange': 10, 'gerald': {'cat': 6}}} \n",
    "\n",
    "def applyfunondict(dict1, fun):\n",
    "    newdict = {}\n",
    "    for key in dict1:\n",
    "        if type(dict1[key]) == type({}):\n",
    "            newdict[key] = applyfunondict(dict1[key], fun)\n",
    "        else:\n",
    "            newdict[key] = myfun(dict1[key])\n",
    "    \n",
    "    return newdict\n",
    "    \n",
    "applyfunondict(a, myfun)\n",
    "        "
   ]
  },
  {
   "cell_type": "code",
   "execution_count": 19,
   "id": "ae0c3c32",
   "metadata": {},
   "outputs": [
    {
     "name": "stdout",
     "output_type": "stream",
     "text": [
      "{'apple': 36, 'banana': 4, 'hello': 25, 'world': 16, 'joe': {'orange': 100, 'carrot': {'cat': 36}}}\n"
     ]
    }
   ],
   "source": [
    "a = {'apple': 6, 'banana': 2, 'hello': 5, 'world': 4, 'joe':{'orange': 10, \"carrot\":{'cat': 6}}}\n",
    "\n",
    "def power(x):\n",
    "    return x*x\n",
    "\n",
    "def recursive_apply_fun_on_dict(mydict, myfun):\n",
    "    for key in mydict:\n",
    "        if type(mydict[key])== type({}):\n",
    "            recursive_apply_fun_on_dict(mydict[key], myfun)\n",
    "        else:\n",
    "            mydict[key]= myfun(mydict[key])\n",
    "            \n",
    "    return mydict\n",
    "\n",
    "print(recursive_apply_fun_on_dict(a, power))"
   ]
  },
  {
   "cell_type": "code",
   "execution_count": null,
   "id": "417928e2",
   "metadata": {},
   "outputs": [],
   "source": []
  }
 ],
 "metadata": {
  "kernelspec": {
   "display_name": "Python 3 (ipykernel)",
   "language": "python",
   "name": "python3"
  },
  "language_info": {
   "codemirror_mode": {
    "name": "ipython",
    "version": 3
   },
   "file_extension": ".py",
   "mimetype": "text/x-python",
   "name": "python",
   "nbconvert_exporter": "python",
   "pygments_lexer": "ipython3",
   "version": "3.9.7"
  }
 },
 "nbformat": 4,
 "nbformat_minor": 5
}
