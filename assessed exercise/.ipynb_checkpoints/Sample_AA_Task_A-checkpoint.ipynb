{
 "cells": [
  {
   "cell_type": "markdown",
   "metadata": {
    "id": "Xrv9mNEQ2j7w"
   },
   "source": [
    "# Sample Assessed Assignment Solution\n",
    "\n",
    "\n",
    "***Task A.1: describe your dataset in words, saying where you got it and what each of the columns means***\n",
    "\n",
    "*Sample answer:*\n",
    "My data set (poturnip.csv) is a record of information about a vegetable called the poturnip, and its production and cost in different months and regions.  It contains five columns:\n",
    "1. The price per unit in GBP of poturnips in the month and region recorded (a floating point number)\n",
    "2. The cost of production per unit in GBP of poturnips in the month and region recorded (a floating point number)\n",
    "3. The number of units of poturnips produced nationally in the month of this record (an integer)\n",
    "4. The month of this record as an integer (1 for January, 2 for February, etc) (an integer)\n",
    "5. The county/shire in which the price and cost are recorded for this entry.  (a string).\n",
    "\n",
    "For example, the first data-containing line of the file contains the information:\n",
    "`31.2,27.8,32889042,2,Ashire`\n",
    "Which indicates that in month 2 (February) in county Ashire, poturnips sold for £31.2/unit, cost £27.8/unit to produce, and nationally in February 32889042 units of poturnips were produced.\n",
    "\n",
    "I found this data on ... (because this is the simulated data from a lab, I have nothing real to put here, but you might say where you found the data and state any processing you did).\n",
    "\n",
    "I was interested in this data because it contains a case study of the interaction between pricing and costs for an agricultural product across spatial scale, which is an interest of mine.  Good affordable food is needed for everyone in society to be healthy, and understanding agricultural markets helps us with that.  \n",
    "\n",
    "\n",
    "***Task A.2: design a data structure to hold the information in your dataset, and justify your choice of data structure. Include an Python example of your data structure on a small example of your data.***\n",
    "\n",
    "I have decided to use a list of dictionaries data structure.  I will have one dictionary for each line in my file, with the keys indicating the meaning of the columns and the values being the information on the line.  For keys, I will use 'price', 'cost', 'monthlyProduction', 'month', and 'region'.  For example, here is a structure that contains the information only from the first line (so this might be produced by reading in a file that only had the first line of information in it):\n",
    "\n",
    "`[{'price': 31.2, 'cost': 27.8, 'monthlyProduction': 32889042, 'month': 2, 'region': 'Ashire'}]`\n",
    "\n",
    "I have chosen to record my months as integers to make plotting simpler.  \n",
    "\n",
    "I have chosen this data structure because the dictionary lets me conveniently access the characteristics of each line by key, and the list allows me to collate as many entries as I need, one for each line.  The easy access to the month and county characteristics will make it convenient for me to loop over my list and do my filtering functions later.  \n",
    "\n",
    "\n",
    "**Task A.3: describe two other options for possible data structures, and say why they are not as good as the one that you chose**\n",
    "\n",
    "I considered several other options, including:\n",
    "- a list of tuples, with one tuple for each line and the order within the tuple indicating the order of columns in the file, so for example a data structure containing only information from the first line would look like: `[(31.2, 27.8, 32889042, 2, Ashire')]`. I decided against this because accessing the columns by index rather than key string is a bit less easy-to-understand by someone re-using the code, and a bit easier for me to make a mistake.  For example, if I am looking at the first line in the file and I want the price, I think it is clearer to access `all_data[0]['price'] ` than `all_data[0][0] `\n",
    "- A dictionary of dictionaries, where instead of storing my individual row dictionaries in a list I store them as values in a dictionary. e.g. `{'key_1': {'price': 31.2, 'cost': 27.8, 'monthlyProduction': 32889042, 'month': 2, 'region': 'Ashire'}}` I decided against this because I don't think there is any particularly intuitive key value associated with each record - there are no unique keys in this data set. Logically, my dataset is more like a list of entries than a mapping form unique values to entries.  "
   ]
  },
  {
   "cell_type": "markdown",
   "metadata": {
    "id": "iHnMte202cMS"
   },
   "source": []
  }
 ],
 "metadata": {
  "colab": {
   "name": "Sample_AA_Task_A.ipynb",
   "provenance": []
  },
  "kernelspec": {
   "display_name": "Python 3 (ipykernel)",
   "language": "python",
   "name": "python3"
  },
  "language_info": {
   "codemirror_mode": {
    "name": "ipython",
    "version": 3
   },
   "file_extension": ".py",
   "mimetype": "text/x-python",
   "name": "python",
   "nbconvert_exporter": "python",
   "pygments_lexer": "ipython3",
   "version": "3.9.7"
  }
 },
 "nbformat": 4,
 "nbformat_minor": 1
}
