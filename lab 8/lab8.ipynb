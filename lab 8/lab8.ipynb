{
 "cells": [
  {
   "cell_type": "markdown",
   "id": "b997fb9c",
   "metadata": {},
   "source": [
    "# Cycle 8 - Lab Exercises\n",
    "## Sorting with a data in a custom structure\n",
    "\n",
    "This week we’ll be working on a modified version of an exam question from last year.  \n",
    "\n",
    "The game of poker is played with a standard 52 card deck. This is a collection of 52 playing cards which has: \n",
    "* four suits: hearts ♥, diamonds ♦, clubs ♣ and spades ♠ \n",
    "* thirteen face values: 2,3,4,5,6,7,8,9,10,J (Jack), Q (Queen), K (King), (A) Ace \n",
    "Every combination of suit and face value is present as a distinct card. For example, 2 of Spades (2♠) is valid card, as is Jack of Hearts (J♥) or Ace of Spades (A♠).  \n",
    "A hand of cards is an ordered collection of cards that is held by one player; for example the five cards 3♠ J♥ J♠ A♦ 7♦ (read Three of Spades, Jack of Hearts, Jack of Spades, Ace of Diamonds, Seven of Diamonds). \n",
    "\n",
    "\n",
    "### Task 1:\n",
    "Describe in words a data structure to represent a single card, and then using this structure, describe a data structure to represent a hand of cards. Write down a concrete example of the data structure in Python syntax for the three card hand: 2♥ 2♠ K♣ "
   ]
  },
  {
   "cell_type": "markdown",
   "id": "3b733960",
   "metadata": {},
   "source": [
    "Dictionary. Keys are suits, then a list of 13 face values.\n",
    "\n",
    "Tuple. suit then face. List of tuples.\n",
    "\n",
    "Hand = [(2, hearts), (2, spades), (K, clubs)]"
   ]
  },
  {
   "cell_type": "markdown",
   "id": "cd4bde55",
   "metadata": {},
   "source": [
    "### Task 2: \n",
    "Write a function `greaterThan(card1, card2)` that takes two cards as input, and returns True if card1 is greater than card 2 by the following rules, False otherwise:\n",
    "\n",
    "\n",
    "The rules for the ranking of an individual card are as follows: \n",
    "* Cards are ranked first by face value: \n",
    "* 2 < 3 < 4 < 5 <6 < 7 < 8 < 9 < 10 < Jack < Queen < King < Ace \n",
    "* Cards which are tied for the same face value are ranked according to suits:  \n",
    "* ♦ Diamonds < ♣ Clubs < ♥ Hearts < ♠ Spades \n",
    "For example: 4♦ < 4♥ < 8♥ < A♥   "
   ]
  },
  {
   "cell_type": "code",
   "execution_count": 8,
   "id": "82e7d38d",
   "metadata": {},
   "outputs": [
    {
     "data": {
      "text/plain": [
       "True"
      ]
     },
     "execution_count": 8,
     "metadata": {},
     "output_type": "execute_result"
    }
   ],
   "source": [
    "def greaterThan(card1, card2):\n",
    "    if (card1[0]) == 'J':\n",
    "        card1value = 11\n",
    "    elif (card1[0]) == 'Q':\n",
    "        card1value = 12\n",
    "    elif (card1[0]) == 'K':\n",
    "        card1value = 13\n",
    "    elif (card1[0]) == 'A':\n",
    "        card1value = 14\n",
    "    else:\n",
    "        card1value = int(card1[0])\n",
    "        \n",
    "    if (card2[0]) == 'J':\n",
    "        card2value = 11\n",
    "    elif (card2[0]) == 'Q':\n",
    "        card2value = 12\n",
    "    elif (card2[0]) == 'K':\n",
    "        card2value = 13\n",
    "    elif (card2[0]) == 'A':\n",
    "        card2value = 14\n",
    "    else:\n",
    "        card2value = int(card2[0])\n",
    "        \n",
    "    if card1value > card2value:\n",
    "        return True\n",
    "    elif card1value == card2value:\n",
    "            if (card1[1]) == 'Diamonds':\n",
    "                card1value += 0\n",
    "            elif (card1[1]) == 'Clubs':\n",
    "                card1value += 1\n",
    "            elif (card1[1]) == 'Hearts':\n",
    "                card1value += 2\n",
    "            elif (card1[1]) == 'Spades':\n",
    "                card1value += 3\n",
    "                \n",
    "            if (card2[1]) == 'Diamonds':\n",
    "                card2value += 0\n",
    "            elif (card2[1]) == 'Clubs':\n",
    "                card2value += 1\n",
    "            elif (card2[1]) == 'Hearts':\n",
    "                card2value += 2\n",
    "            elif (card2[1]) == 'Spades':\n",
    "                card2value += 3\n",
    "    \n",
    "            if card1value > card2value:\n",
    "                return True\n",
    "            \n",
    "    return False\n",
    "\n",
    "greaterThan(('4', 'Spades'), ('3', 'Clubs'))"
   ]
  },
  {
   "cell_type": "markdown",
   "id": "06b4c146",
   "metadata": {},
   "source": [
    "### Task 3: \n",
    "Using your `greaterThan` function, implement a sorting algorithm of your choice that can take a list of cards and sort it in ranked order.  \n",
    "\n",
    "\n",
    "For example, given the input representing the hand 2♥ Q♠ 6♣ 4♦ Q♣ the sequence should be returned in the order 2♥ 4♦ 6♣ Q♣ Q♠. \n"
   ]
  },
  {
   "cell_type": "code",
   "execution_count": 12,
   "id": "29f68fba",
   "metadata": {},
   "outputs": [
    {
     "name": "stdout",
     "output_type": "stream",
     "text": [
      "[(2, 'Diamonds'), (2, 'Clubs'), (3, 'Hearts'), (8, 'Hearts'), ('J', 'Spades')]\n"
     ]
    }
   ],
   "source": [
    "def swap(myList, i, j):\n",
    "    tmp = myList[i]\n",
    "    myList[i] = myList[j]\n",
    "    myList[j] = tmp\n",
    "      \n",
    "    \n",
    "def findMinimumAfterIncluding(myList, afterInd):\n",
    "    minSoFar = afterInd\n",
    "    for i in range(afterInd, len(myList)):\n",
    "        if not greaterThan(myList[i], myList[minSoFar]):\n",
    "            minSoFar = i\n",
    "    return minSoFar\n",
    "\n",
    "\n",
    "def selectionSort(myList):\n",
    "    for i in range(len(myList)):\n",
    "        smallest = findMinimumAfterIncluding(myList, i)\n",
    "        swap(myList, smallest, i)\n",
    "    return myList\n",
    "\n",
    "cards = [(2, 'Clubs'), (2, 'Diamonds'), (8, 'Hearts'), (3, 'Hearts'), ('J', 'Spades')]\n",
    "print(selectionSort(cards))"
   ]
  },
  {
   "cell_type": "markdown",
   "id": "7f48b7fc",
   "metadata": {},
   "source": [
    "### Task 4:\n",
    "In poker, when scoring the value of a hand, multiple cards must be taken into account. For example, a pair of cards with the same face value is worth more than a pair of unmatched cards with differing face values. To start implementing such rules, three functions need to be implemented: \n",
    " \n",
    "* `is_consecutive(a, b)` must return True if a and b have consecutive face values regardless of face value and False otherwise (e.g. 2♦,3♦ is consecutive, as is J♣,Q♦ but not A♦,2♦ or 7♦,9♣ or 3♣,2♣)  \n",
    "\n",
    "* `is_matching_face(a,b)` must return True if a and b have the same face values but differing suits and False otherwise  \n",
    "\n",
    "* `is_matching_suit(a,b)` must return True if a and b have the same suits and False otherwise \n",
    " \n",
    "Define these three functions in Python. "
   ]
  },
  {
   "cell_type": "code",
   "execution_count": 38,
   "id": "b0b9fd5d",
   "metadata": {},
   "outputs": [
    {
     "name": "stdout",
     "output_type": "stream",
     "text": [
      "True\n",
      "True\n",
      "True\n"
     ]
    }
   ],
   "source": [
    "def is_consecutive(card1, card2):\n",
    "    if (card1[0]) == 'J':\n",
    "        card1value = 11\n",
    "    elif (card1[0]) == 'Q':\n",
    "        card1value = 12\n",
    "    elif (card1[0]) == 'K':\n",
    "        card1value = 13\n",
    "    elif (card1[0]) == 'A':\n",
    "        card1value = 14\n",
    "    else:\n",
    "        card1value = int(card1[0])\n",
    "        \n",
    "    if (card2[0]) == 'J':\n",
    "        card2value = 11\n",
    "    elif (card2[0]) == 'Q':\n",
    "        card2value = 12\n",
    "    elif (card2[0]) == 'K':\n",
    "        card2value = 13\n",
    "    elif (card2[0]) == 'A':\n",
    "        card2value = 14\n",
    "    else:\n",
    "        card2value = int(card2[0])\n",
    "        \n",
    "    if card2value == (card1value + 1):\n",
    "        return True\n",
    "    \n",
    "    return False\n",
    "    \n",
    "def is_matching_face(card1, card2):\n",
    "    if card1[0] == card2[0]:\n",
    "        return True\n",
    "    return False\n",
    "    \n",
    "def is_matching_suit(card1, card2):\n",
    "    if card1[1] == card2[1]:\n",
    "        return True\n",
    "    return False\n",
    "\n",
    "print(is_consecutive((3,'Spades'), (4, 'Clubs')))\n",
    "print(is_matching_face(('A','Hearts'), ('A', 'Spades')))\n",
    "print(is_matching_suit(('A','Diamonds'), ('J', 'Diamonds')))"
   ]
  },
  {
   "cell_type": "code",
   "execution_count": null,
   "id": "0687829f",
   "metadata": {},
   "outputs": [],
   "source": []
  },
  {
   "cell_type": "code",
   "execution_count": null,
   "id": "212e73f8",
   "metadata": {},
   "outputs": [],
   "source": []
  }
 ],
 "metadata": {
  "kernelspec": {
   "display_name": "Python 3 (ipykernel)",
   "language": "python",
   "name": "python3"
  },
  "language_info": {
   "codemirror_mode": {
    "name": "ipython",
    "version": 3
   },
   "file_extension": ".py",
   "mimetype": "text/x-python",
   "name": "python",
   "nbconvert_exporter": "python",
   "pygments_lexer": "ipython3",
   "version": "3.9.7"
  }
 },
 "nbformat": 4,
 "nbformat_minor": 5
}
