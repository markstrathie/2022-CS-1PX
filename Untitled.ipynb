{
 "cells": [
  {
   "cell_type": "markdown",
   "id": "4f409315",
   "metadata": {},
   "source": [
    "1. Write a function `recursive_exponent(base, exp)` that takes in a base and an exp as parameters and recursively computes baseexp. You are not allowed to use the ** operator! "
   ]
  },
  {
   "cell_type": "markdown",
   "id": "c060dfa4",
   "metadata": {},
   "source": [
    "2.\tWrite a function `recursive_countdown(n)` using recursion to print numbers from n to 0.  (Where n will be a positive integer parameter) "
   ]
  },
  {
   "cell_type": "code",
   "execution_count": null,
   "id": "3e58bd00",
   "metadata": {},
   "outputs": [],
   "source": []
  }
 ],
 "metadata": {
  "kernelspec": {
   "display_name": "Python 3 (ipykernel)",
   "language": "python",
   "name": "python3"
  },
  "language_info": {
   "codemirror_mode": {
    "name": "ipython",
    "version": 3
   },
   "file_extension": ".py",
   "mimetype": "text/x-python",
   "name": "python",
   "nbconvert_exporter": "python",
   "pygments_lexer": "ipython3",
   "version": "3.9.7"
  }
 },
 "nbformat": 4,
 "nbformat_minor": 5
}
