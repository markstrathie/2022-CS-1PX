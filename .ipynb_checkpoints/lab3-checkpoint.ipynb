{
 "cells": [
  {
   "cell_type": "markdown",
   "id": "d4ba91d3",
   "metadata": {},
   "source": [
    "# Cycle 3 CS1PX Lab Exercises: Reading from Files, Errors and Exceptions\n",
    "\n",
    "\n",
    "## Aims:\n",
    "1. Practice reading data from files\n",
    "2. Practice checking for malformed input and throwing and catching exceptions\n",
    "\n",
    "\n",
    "## This week’s exercises \n",
    "This week you’ll be building the biggest piece of code we’ve worked on yet - a birthday book that reads information from a file, and, if you have time to work on the last task, lets us retrieve information from the command line.  \n",
    "\n",
    " \n",
    "### Task 1 - Data structure and processing\n",
    "The idea of this exercise is to store people’s birthdays and produce reminders of birthdays that are coming up. \n",
    "\n",
    "\n",
    "A birthday consists of a month and a date, which can be represented by a dictionary such as\n",
    "{ \"month\":\"Sep\", \"day\":17 }\n",
    "\n",
    "\n",
    "The birthday book is a dictionary in which the keys are people’s names, and the values are birthdays, with each birthday represented as a dictionary as above. \n",
    "\n",
    "\n",
    "I want you to define a number of functions for dealing with a birthday book. Write all of this code in a file that is called birthday.py\n",
    "\n",
    "\n",
    "**Task 1.1:** Set up a hard-coded sample birthday book dictionary so that you can test out the functions you will write.  Here is a sample of a dictionary that has only my birthday in it:\n",
    "`birthdayBook = {Jess : {\"month\": \"Dec\", \"day\": 10}} `\n",
    "Create your own, or add more to this one. "
   ]
  },
  {
   "cell_type": "code",
   "execution_count": null,
   "id": "9b0a7f28",
   "metadata": {},
   "outputs": [],
   "source": [
    "birthdayBook = {Jess : {\"month\": \"Dec\", \"day\": 10}, Mark : {\"month\": \"Sep\", \"day\": 4}, \n",
    "                Mum : {\"month\": \"Jan\", \"day\": 24}, Dad : {\"month\": \"Jan\", \"day\": 26}, \n",
    "                Louise : {\"month\": \"Sep\", \"day\": 4}}"
   ]
  },
  {
   "cell_type": "markdown",
   "id": "69a4d65e",
   "metadata": {},
   "source": [
    "**Task 1.2:** Define a function which, given a person’s name, prints his or her birthday. You function should take both the birthday book and the name as arguments.  "
   ]
  },
  {
   "cell_type": "code",
   "execution_count": 55,
   "id": "cc0ddbd1",
   "metadata": {},
   "outputs": [
    {
     "name": "stdout",
     "output_type": "stream",
     "text": [
      "{'month': 'Sep', 'day': 4}\n"
     ]
    }
   ],
   "source": [
    "birthdayBook = {\"Jess\" : {\"month\": \"Dec\", \"day\": 10}, \"Mark\" : {\"month\": \"Sep\", \"day\": 4}, \n",
    "                \"Mum\" : {\"month\": \"Jan\", \"day\": 24}, \"Dad\" : {\"month\": \"Jan\", \"day\": 26}, \n",
    "                \"Louise\" : {\"month\": \"Sep\", \"day\": 4}}\n",
    "\n",
    "def printBday(book, name):\n",
    "    if name in book:\n",
    "        print(book[name])\n",
    "    else:\n",
    "        print(\"name not found\")\n",
    "    \n",
    "printBday(birthdayBook, \"Mark\")"
   ]
  },
  {
   "cell_type": "markdown",
   "id": "a7c23caf",
   "metadata": {},
   "source": [
    "Task 1.3: Define a function which, given a month, prints a list of all the people who have birthdays in that month, with the dates."
   ]
  },
  {
   "cell_type": "code",
   "execution_count": 58,
   "id": "0eb124f6",
   "metadata": {},
   "outputs": [
    {
     "name": "stdout",
     "output_type": "stream",
     "text": [
      "['Mark', 'Sep', 4, 'Louise', 'Sep', 4]\n"
     ]
    }
   ],
   "source": [
    "birthdayBook = {\"Jess\" : {\"month\": \"Dec\", \"day\": 10}, \"Mark\" : {\"month\": \"Sep\", \"day\": 4}, \n",
    "                \"Mum\" : {\"month\": \"Jan\", \"day\": 24}, \"Dad\" : {\"month\": \"Jan\", \"day\": 26}, \n",
    "                \"Louise\" : {\"month\": \"Sep\", \"day\": 4}}\n",
    "\n",
    "def printBdaysMonth(book, month):\n",
    "    bdays = []\n",
    "    months = [\"Jan\", \"Feb\", \"Mar\", \"Apr\", \"May\", \"Jun\", \"Jul\", \"Aug\", \"Sep\", \"Oct\", \"Nov\", \"Dec\"]\n",
    "    if month in months:\n",
    "        for key in book:\n",
    "            if book[key][\"month\"] == month:\n",
    "                bdays.append(key)\n",
    "                bdays.append(book[key][\"month\"])\n",
    "                bdays.append(book[key][\"day\"])\n",
    "        print(bdays)\n",
    "    else:\n",
    "        print(\"month is wrong\")\n",
    "    \n",
    "printBdaysMonth(birthdayBook, \"Sep\")"
   ]
  },
  {
   "cell_type": "markdown",
   "id": "5e9325b6",
   "metadata": {},
   "source": [
    "Task 2 - Reading information from a file\n",
    "\n",
    "Now we are going to read information about the birthdays from a file. We will add error-checking later.\n",
    "\n",
    "The aim of this task is to define a function: getBirthdays which takes a filename as a parameter and reads birthdays from the file, storing them in a dictionary which should also be a parameter of the function. The first line of the function definition should therefore be\n",
    "\n",
    "def getBirthdays(fileName,book):\n",
    "\n",
    "The file should contain a number of lines with one birthday per line, in the following format:\n",
    "\n",
    "John,Mar,23\n",
    "Susan,Feb,16\n",
    "\n",
    "and so on. The file birthdays.txt (on Moodle) contains some data that you can use for testing; you can also create your own files using the normal Python editor. For this task, don't worry yet about handling errors: assume that the file exists, that it has the correct format, that every line gives a valid date, etc.\n",
    "\n",
    "The following points might be useful:-\n",
    "\n",
    "    remember to open the file and then call methods to read data\n",
    "    the easiest way to read data from this file is to use the readline function, but note that it gives you a string with a newline character at the end, so you will need to discard extra whitespace. You may want to look up the strip() function\n",
    "    remember the split() function from the string module: the call line.split(\",\") will be useful. It converts a string into a list\n",
    "    Test your function (how should you do this?)\n",
    "\n",
    "Once you have written this code to read in a file, read in the birthdays from file and try out your functions from Task 1."
   ]
  },
  {
   "cell_type": "code",
   "execution_count": 30,
   "id": "765e4afe",
   "metadata": {},
   "outputs": [
    {
     "name": "stdout",
     "output_type": "stream",
     "text": [
      "{'Jess': {'month': 'Dec', 'day': 10}, 'Mark': {'month': 'Sep', 'day': 4}, 'Mum': {'month': 'Jan', 'day': 24}, 'Dad': {'month': 'Jan', 'day': 26}, 'Louise': {'month': 'Sep', 'day': 4}, 'John': {'month': 'Mar', 'day': '23'}, 'Susan': {'month': 'Feb', 'day': '16'}, 'Alan': {'month': 'Sep', 'day': '4'}, 'Kevin': {'month': 'Dec', 'day': '23'}, 'Murad': {'month': 'Jan', 'day': '3'}, 'Sandeep': {'month': 'Apr', 'day': '2'}, 'James': {'month': 'Apr', 'day': '3'}, 'Karen': {'month': 'Apr', 'day': '2'}, 'Wiktoria': {'month': 'Jul', 'day': '14'}, 'Rogan': {'month': 'Jun', 'day': '29'}, 'Fraser': {'month': 'Jan', 'day': '4'}, 'Cameron': {'month': 'Oct', 'day': '1'}, 'Chloe': {'month': 'Sep', 'day': '30'}, 'Sam': {'month': 'Feb', 'day': '4'}}\n",
      "['Mark', 'Sep', 4, 'Louise', 'Sep', 4, 'Alan', 'Sep', '4', 'Chloe', 'Sep', '30']\n",
      "{'month': 'Apr', 'day': '2'}\n"
     ]
    }
   ],
   "source": [
    "def getBirthdays(fileName,book):\n",
    "    for line in open(fileName):\n",
    "        strippedLine = line.strip()\n",
    "        splitLine = strippedLine.split(\",\")\n",
    "        book[splitLine[0]] = {\"month\": splitLine[1], \"day\": splitLine[2]}\n",
    "    \n",
    "    return book\n",
    "      \n",
    "print(getBirthdays(\"birthdays.txt\", birthdayBook))\n",
    "\n",
    "printBdaysMonth(birthdayBook, \"Sep\")\n",
    "printBday(birthdayBook, \"Sandeep\")\n",
    "        "
   ]
  },
  {
   "cell_type": "markdown",
   "id": "c4af75fa",
   "metadata": {},
   "source": [
    "Task 3 - Handling errors\n",
    "\n",
    "Now we will try to make our code more robust, and deal with malformed input files.\n",
    "\n",
    "In lecture we talked about both exceptions and more hand-written error checks using if statements. Be sure to try out both in this task.\n",
    "\n",
    "There are many things that could go wrong in this program! The filename might be for a file that does not exist. The lines in a file might be missing commas, the functions you write as part of Task 1 might be given faulty input (months that don’t exist, etc).\n",
    "\n",
    "Modify the birthday book program so that as many errors as you can think of are detected. In some cases, for example, trying to open a non-existent file, you should handle the exception raised by the built-in Python function. In other cases, you might like to process other built-in exceptions or do input checks using if statements (for example, to check for valid months, or valid dates). Advanced option: you might even like to raise and handle your own exceptions."
   ]
  },
  {
   "cell_type": "code",
   "execution_count": 68,
   "id": "8f6d664d",
   "metadata": {},
   "outputs": [
    {
     "ename": "AssertionError",
     "evalue": "month is wrong on line: John,March,20",
     "output_type": "error",
     "traceback": [
      "\u001b[1;31m---------------------------------------------------------------------------\u001b[0m",
      "\u001b[1;31mAssertionError\u001b[0m                            Traceback (most recent call last)",
      "\u001b[1;32m~\\AppData\\Local\\Temp/ipykernel_9356/2092940179.py\u001b[0m in \u001b[0;36mgetBirthdays\u001b[1;34m(fileName, book)\u001b[0m\n\u001b[0;32m      6\u001b[0m             \u001b[0msplitLine\u001b[0m \u001b[1;33m=\u001b[0m \u001b[0mstrippedLine\u001b[0m\u001b[1;33m.\u001b[0m\u001b[0msplit\u001b[0m\u001b[1;33m(\u001b[0m\u001b[1;34m\",\"\u001b[0m\u001b[1;33m)\u001b[0m\u001b[1;33m\u001b[0m\u001b[1;33m\u001b[0m\u001b[0m\n\u001b[1;32m----> 7\u001b[1;33m             \u001b[1;32massert\u001b[0m \u001b[0msplitLine\u001b[0m\u001b[1;33m[\u001b[0m\u001b[1;36m1\u001b[0m\u001b[1;33m]\u001b[0m \u001b[1;32min\u001b[0m \u001b[0mmonths\u001b[0m\u001b[1;33m\u001b[0m\u001b[1;33m\u001b[0m\u001b[0m\n\u001b[0m\u001b[0;32m      8\u001b[0m             \u001b[1;32mif\u001b[0m \u001b[0mint\u001b[0m\u001b[1;33m(\u001b[0m\u001b[0msplitLine\u001b[0m\u001b[1;33m[\u001b[0m\u001b[1;36m2\u001b[0m\u001b[1;33m]\u001b[0m\u001b[1;33m)\u001b[0m \u001b[1;33m<\u001b[0m \u001b[1;36m1\u001b[0m \u001b[1;32mor\u001b[0m \u001b[0mint\u001b[0m\u001b[1;33m(\u001b[0m\u001b[0msplitLine\u001b[0m\u001b[1;33m[\u001b[0m\u001b[1;36m2\u001b[0m\u001b[1;33m]\u001b[0m\u001b[1;33m)\u001b[0m \u001b[1;33m>\u001b[0m \u001b[1;36m31\u001b[0m\u001b[1;33m:\u001b[0m\u001b[1;33m\u001b[0m\u001b[1;33m\u001b[0m\u001b[0m\n",
      "\u001b[1;31mAssertionError\u001b[0m: ",
      "\nDuring handling of the above exception, another exception occurred:\n",
      "\u001b[1;31mAssertionError\u001b[0m                            Traceback (most recent call last)",
      "\u001b[1;32m~\\AppData\\Local\\Temp/ipykernel_9356/2092940179.py\u001b[0m in \u001b[0;36m<module>\u001b[1;34m\u001b[0m\n\u001b[0;32m     16\u001b[0m         \u001b[0mprint\u001b[0m\u001b[1;33m(\u001b[0m\u001b[1;34m\"Can't find file \"\u001b[0m \u001b[1;33m+\u001b[0m \u001b[0mstr\u001b[0m\u001b[1;33m(\u001b[0m\u001b[0mfileName\u001b[0m\u001b[1;33m)\u001b[0m \u001b[1;33m+\u001b[0m \u001b[1;34m\" are you sure it exists?\"\u001b[0m\u001b[1;33m)\u001b[0m\u001b[1;33m\u001b[0m\u001b[1;33m\u001b[0m\u001b[0m\n\u001b[0;32m     17\u001b[0m \u001b[1;33m\u001b[0m\u001b[0m\n\u001b[1;32m---> 18\u001b[1;33m \u001b[0mgetBirthdays\u001b[0m\u001b[1;33m(\u001b[0m\u001b[1;34m\"birthdays.txt\"\u001b[0m\u001b[1;33m,\u001b[0m \u001b[0mbirthdayBook\u001b[0m\u001b[1;33m)\u001b[0m\u001b[1;33m\u001b[0m\u001b[1;33m\u001b[0m\u001b[0m\n\u001b[0m\u001b[0;32m     19\u001b[0m \u001b[1;33m\u001b[0m\u001b[0m\n\u001b[0;32m     20\u001b[0m \u001b[0mprintBdaysMonth\u001b[0m\u001b[1;33m(\u001b[0m\u001b[0mbirthdayBook\u001b[0m\u001b[1;33m,\u001b[0m \u001b[1;34m\"Sep\"\u001b[0m\u001b[1;33m)\u001b[0m\u001b[1;33m\u001b[0m\u001b[1;33m\u001b[0m\u001b[0m\n",
      "\u001b[1;32m~\\AppData\\Local\\Temp/ipykernel_9356/2092940179.py\u001b[0m in \u001b[0;36mgetBirthdays\u001b[1;34m(fileName, book)\u001b[0m\n\u001b[0;32m     13\u001b[0m         \u001b[1;32mreturn\u001b[0m \u001b[0mbook\u001b[0m\u001b[1;33m\u001b[0m\u001b[1;33m\u001b[0m\u001b[0m\n\u001b[0;32m     14\u001b[0m     \u001b[1;32mexcept\u001b[0m\u001b[1;33m:\u001b[0m\u001b[1;33m\u001b[0m\u001b[1;33m\u001b[0m\u001b[0m\n\u001b[1;32m---> 15\u001b[1;33m         \u001b[1;32massert\u001b[0m \u001b[0msplitLine\u001b[0m\u001b[1;33m[\u001b[0m\u001b[1;36m1\u001b[0m\u001b[1;33m]\u001b[0m \u001b[1;32min\u001b[0m \u001b[0mmonths\u001b[0m\u001b[1;33m,\u001b[0m \u001b[1;34m\"month is wrong on line: \"\u001b[0m \u001b[1;33m+\u001b[0m \u001b[0mstrippedLine\u001b[0m\u001b[1;33m\u001b[0m\u001b[1;33m\u001b[0m\u001b[0m\n\u001b[0m\u001b[0;32m     16\u001b[0m         \u001b[0mprint\u001b[0m\u001b[1;33m(\u001b[0m\u001b[1;34m\"Can't find file \"\u001b[0m \u001b[1;33m+\u001b[0m \u001b[0mstr\u001b[0m\u001b[1;33m(\u001b[0m\u001b[0mfileName\u001b[0m\u001b[1;33m)\u001b[0m \u001b[1;33m+\u001b[0m \u001b[1;34m\" are you sure it exists?\"\u001b[0m\u001b[1;33m)\u001b[0m\u001b[1;33m\u001b[0m\u001b[1;33m\u001b[0m\u001b[0m\n\u001b[0;32m     17\u001b[0m \u001b[1;33m\u001b[0m\u001b[0m\n",
      "\u001b[1;31mAssertionError\u001b[0m: month is wrong on line: John,March,20"
     ]
    }
   ],
   "source": [
    "def getBirthdays(fileName,book):\n",
    "    months = [\"Jan\", \"Feb\", \"Mar\", \"Apr\", \"May\", \"Jun\", \"Jul\", \"Aug\", \"Sep\", \"Oct\", \"Nov\", \"Dec\"]\n",
    "    try:\n",
    "        for line in open(fileName):\n",
    "            strippedLine = line.strip()\n",
    "            splitLine = strippedLine.split(\",\")\n",
    "            assert splitLine[1] in months\n",
    "            if int(splitLine[2]) < 1 or int(splitLine[2]) > 31:\n",
    "                print(\"Invalid day on line: \" + strippedLine)\n",
    "                return\n",
    "            else:\n",
    "                book[splitLine[0]] = {\"month\": splitLine[1], \"day\": splitLine[2]}\n",
    "        return book\n",
    "    except:\n",
    "        assert splitLine[1] in months, \"month is wrong on line: \" + strippedLine\n",
    "        print(\"Can't find file \" + str(fileName) + \" are you sure it exists?\")\n",
    "\n",
    "getBirthdays(\"birthdays.txt\", birthdayBook)\n",
    "\n",
    "printBdaysMonth(birthdayBook, \"Sep\")\n",
    "printBday(birthdayBook, \"Sandeep\")"
   ]
  }
 ],
 "metadata": {
  "kernelspec": {
   "display_name": "Python 3 (ipykernel)",
   "language": "python",
   "name": "python3"
  },
  "language_info": {
   "codemirror_mode": {
    "name": "ipython",
    "version": 3
   },
   "file_extension": ".py",
   "mimetype": "text/x-python",
   "name": "python",
   "nbconvert_exporter": "python",
   "pygments_lexer": "ipython3",
   "version": "3.9.7"
  }
 },
 "nbformat": 4,
 "nbformat_minor": 5
}
