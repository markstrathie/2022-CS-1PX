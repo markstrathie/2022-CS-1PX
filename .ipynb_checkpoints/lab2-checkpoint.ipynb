{
 "cells": [
  {
   "cell_type": "markdown",
   "id": "93370058",
   "metadata": {},
   "source": [
    "# CS1PX Lab Exercises Cycle 2: Recursion and higher-order functions\n",
    "\n",
    "Aims:\n",
    "1.\tPractice writing recursive functions \n",
    "    a.\tMake sure you can identify the base case and the recursive case\n",
    "    b.\tTracing recursion - be sure you can trace your code\n",
    "2.\tPractice using higher-order functions \n",
    "\n",
    "## This week’s exercises \n",
    "This week may be challenging - both recursion and higher-order functions can be tricky to get your head around the first time!  Practice will help.  Task 1 is the most fundamental of the three tasks, so focus on getting those done if you are struggling for time.  \n",
    "You may find it useful to do some planning on paper before you start working on your machine. \n",
    " \n",
    "### Task 1 - Recursive functions\n",
    "\n",
    "In all three cases, think about your base case and recursive case, then write your code (on paper first if that helps you), and be sure you can trace your code and draw stack traces.\n",
    "1. Write a function `recursive_exponent(base, exp)` that takes in a base and an exp as parameters and recursively computes baseexp. You are not allowed to use the ** operator! "
   ]
  },
  {
   "cell_type": "code",
   "execution_count": 27,
   "id": "4eee706c",
   "metadata": {},
   "outputs": [
    {
     "name": "stdout",
     "output_type": "stream",
     "text": [
      "1\n"
     ]
    },
    {
     "ename": "TypeError",
     "evalue": "unsupported operand type(s) for *: 'int' and 'NoneType'",
     "output_type": "error",
     "traceback": [
      "\u001b[1;31m---------------------------------------------------------------------------\u001b[0m",
      "\u001b[1;31mTypeError\u001b[0m                                 Traceback (most recent call last)",
      "\u001b[1;32m~\\AppData\\Local\\Temp/ipykernel_17216/1273050330.py\u001b[0m in \u001b[0;36m<module>\u001b[1;34m\u001b[0m\n\u001b[0;32m      7\u001b[0m         \u001b[0mbase\u001b[0m \u001b[1;33m*\u001b[0m \u001b[0mrecursive_exponent\u001b[0m\u001b[1;33m(\u001b[0m\u001b[0mbase\u001b[0m\u001b[1;33m,\u001b[0m \u001b[1;33m(\u001b[0m\u001b[0mexp\u001b[0m\u001b[1;33m-\u001b[0m\u001b[1;36m1\u001b[0m\u001b[1;33m)\u001b[0m\u001b[1;33m)\u001b[0m\u001b[1;33m\u001b[0m\u001b[1;33m\u001b[0m\u001b[0m\n\u001b[0;32m      8\u001b[0m \u001b[1;33m\u001b[0m\u001b[0m\n\u001b[1;32m----> 9\u001b[1;33m \u001b[0mrecursive_exponent\u001b[0m\u001b[1;33m(\u001b[0m\u001b[1;36m1\u001b[0m\u001b[1;33m,\u001b[0m \u001b[1;36m2\u001b[0m\u001b[1;33m)\u001b[0m\u001b[1;33m\u001b[0m\u001b[1;33m\u001b[0m\u001b[0m\n\u001b[0m\u001b[0;32m     10\u001b[0m \u001b[1;33m\u001b[0m\u001b[0m\n",
      "\u001b[1;32m~\\AppData\\Local\\Temp/ipykernel_17216/1273050330.py\u001b[0m in \u001b[0;36mrecursive_exponent\u001b[1;34m(base, exp)\u001b[0m\n\u001b[0;32m      5\u001b[0m         \u001b[0mprint\u001b[0m\u001b[1;33m(\u001b[0m\u001b[0mbase\u001b[0m\u001b[1;33m)\u001b[0m\u001b[1;33m\u001b[0m\u001b[1;33m\u001b[0m\u001b[0m\n\u001b[0;32m      6\u001b[0m     \u001b[1;32melse\u001b[0m\u001b[1;33m:\u001b[0m\u001b[1;33m\u001b[0m\u001b[1;33m\u001b[0m\u001b[0m\n\u001b[1;32m----> 7\u001b[1;33m         \u001b[0mbase\u001b[0m \u001b[1;33m*\u001b[0m \u001b[0mrecursive_exponent\u001b[0m\u001b[1;33m(\u001b[0m\u001b[0mbase\u001b[0m\u001b[1;33m,\u001b[0m \u001b[1;33m(\u001b[0m\u001b[0mexp\u001b[0m\u001b[1;33m-\u001b[0m\u001b[1;36m1\u001b[0m\u001b[1;33m)\u001b[0m\u001b[1;33m)\u001b[0m\u001b[1;33m\u001b[0m\u001b[1;33m\u001b[0m\u001b[0m\n\u001b[0m\u001b[0;32m      8\u001b[0m \u001b[1;33m\u001b[0m\u001b[0m\n\u001b[0;32m      9\u001b[0m \u001b[0mrecursive_exponent\u001b[0m\u001b[1;33m(\u001b[0m\u001b[1;36m1\u001b[0m\u001b[1;33m,\u001b[0m \u001b[1;36m2\u001b[0m\u001b[1;33m)\u001b[0m\u001b[1;33m\u001b[0m\u001b[1;33m\u001b[0m\u001b[0m\n",
      "\u001b[1;31mTypeError\u001b[0m: unsupported operand type(s) for *: 'int' and 'NoneType'"
     ]
    }
   ],
   "source": [
    "def recursive_exponent(base, exp):\n",
    "    if exp == 0:\n",
    "        print(1)\n",
    "    elif exp == 1:\n",
    "        print(base)\n",
    "    else:\n",
    "        base * recursive_exponent(base, (exp-1))\n",
    "        \n",
    "recursive_exponent(1, 2)\n",
    "        "
   ]
  },
  {
   "cell_type": "markdown",
   "id": "73457acb",
   "metadata": {},
   "source": [
    "2.\tWrite a function `recursive_countdown(n)` using recursion to print numbers from n to 0.  (Where n will be a positive integer parameter) "
   ]
  },
  {
   "cell_type": "code",
   "execution_count": 4,
   "id": "060e623d",
   "metadata": {},
   "outputs": [
    {
     "name": "stdout",
     "output_type": "stream",
     "text": [
      "10\n",
      "9\n",
      "8\n",
      "7\n",
      "6\n",
      "5\n",
      "4\n",
      "3\n",
      "2\n",
      "1\n",
      "0\n"
     ]
    }
   ],
   "source": [
    "def recursive_countdown(n):\n",
    "    if n == 0:\n",
    "        print(0)\n",
    "    else:\n",
    "        print(n)\n",
    "        recursive_countdown(n-1)\n",
    "        \n",
    "recursive_countdown(10)"
   ]
  },
  {
   "cell_type": "markdown",
   "id": "aa3e1eca",
   "metadata": {},
   "source": [
    "3.\tWe can determine how many digits a positive integer has by repeatedly dividing by 10 (without keeping the remainder) until the number is less than 10, consisting of only 1 digit.\n",
    "Write down a recursive algorithm to implement this approach, and implement it in Python. \n",
    " (Hint:  If n is an integer, n//10 will be an integer without the fractional part in Python.)  \n"
   ]
  },
  {
   "cell_type": "code",
   "execution_count": 28,
   "id": "0f042439",
   "metadata": {},
   "outputs": [
    {
     "name": "stdout",
     "output_type": "stream",
     "text": [
      "66666666\n",
      "6666666\n",
      "666666\n",
      "66666\n",
      "6666\n",
      "666\n",
      "66\n"
     ]
    }
   ],
   "source": [
    "def digits(n):\n",
    "    if n < 10:\n",
    "        return 1\n",
    "    else:\n",
    "        print(n)\n",
    "        digits(n//10)\n",
    "        \n",
    "digits(66666666)\n",
    "        "
   ]
  },
  {
   "cell_type": "markdown",
   "id": "50094e92",
   "metadata": {},
   "source": [
    "### Task 2 – Higher-Order Functions  \n",
    "\n",
    "Write the following higher-order function in Python:\n",
    "1.\t`apply_fun_on_dict(a, myfun)`: Write a function that applies a function on the values of a dictionary (e.g., calculates power of each value). \n",
    " \n",
    "Let’s create this function that we would like to apply on the values of the dictionary: \n",
    "```\n",
    "def myfun(elem): \n",
    "   return elem**2 \n",
    "```\n",
    " \n",
    "Then \n",
    "```\n",
    "a = {'apple': 6, 'banana': 2, 'hello': 5, 'world': 4} \n",
    "applyfunondict(a, myfun)\n",
    "```\n",
    "\n",
    "Should give:\n",
    "`{'apple': 36, 'banana': 4, 'hello': 25, 'world': 16} `\n",
    " "
   ]
  },
  {
   "cell_type": "code",
   "execution_count": 15,
   "id": "734da390",
   "metadata": {},
   "outputs": [
    {
     "data": {
      "text/plain": [
       "{'apple': 36, 'banana': 4, 'hello': 25, 'world': 16}"
      ]
     },
     "execution_count": 15,
     "metadata": {},
     "output_type": "execute_result"
    }
   ],
   "source": [
    "def myfun(elem):\n",
    "    return elem**2\n",
    "\n",
    "a = {'apple': 6, 'banana': 2, 'hello': 5, 'world': 4} \n",
    "\n",
    "def applyfunondict(dict1, fun):\n",
    "    newdict = {}\n",
    "    for key in dict1:\n",
    "        newdict[key] = myfun(dict1[key])\n",
    "    \n",
    "    return newdict\n",
    "    \n",
    "applyfunondict(a, myfun)\n",
    "        \n",
    "    "
   ]
  },
  {
   "cell_type": "markdown",
   "id": "9a09662c",
   "metadata": {},
   "source": [
    "### Task 3 - Challenge task\n",
    "Let's combine recursion and higher-order functions to do something a little more challenging.  \n",
    "\n",
    "Write the following higher-order function in Python:\n",
    "\n",
    "-\t`recursive_apply_fun_on_dict(a, myfun)`: Write a function that applies a function on the values of a dictionary (e.g., calculates power of each value) if the values are integers, but if the values of the dictionary are themselves dictionaries then it applies the function on the values of that dictionary recursively.  So, for example: \n",
    "\n",
    "```\n",
    "a = {'apple': 6, 'banana': 2, 'hello': 5, 'world': 4, 'suzanne': {'orange': 10, 'gerald': {'cat': 6}}} \n",
    "applyfunondict(a, myfun)\n",
    "```\n",
    "\n",
    "Should give:\n",
    "`{'apple': 36, 'banana': 4, 'hello': 25, 'world': 16, 'suzanne': {'orange': 100, 'gerald': {'cat': 36}}} "
   ]
  },
  {
   "cell_type": "code",
   "execution_count": 26,
   "id": "ada2a11c",
   "metadata": {},
   "outputs": [
    {
     "name": "stdout",
     "output_type": "stream",
     "text": [
      "36\n",
      "4\n",
      "25\n",
      "16\n"
     ]
    },
    {
     "ename": "TypeError",
     "evalue": "unsupported operand type(s) for ** or pow(): 'dict' and 'int'",
     "output_type": "error",
     "traceback": [
      "\u001b[1;31m---------------------------------------------------------------------------\u001b[0m",
      "\u001b[1;31mTypeError\u001b[0m                                 Traceback (most recent call last)",
      "\u001b[1;32m~\\AppData\\Local\\Temp/ipykernel_17216/790925168.py\u001b[0m in \u001b[0;36m<module>\u001b[1;34m\u001b[0m\n\u001b[0;32m     15\u001b[0m     \u001b[1;32mreturn\u001b[0m \u001b[0mnewdict\u001b[0m\u001b[1;33m\u001b[0m\u001b[1;33m\u001b[0m\u001b[0m\n\u001b[0;32m     16\u001b[0m \u001b[1;33m\u001b[0m\u001b[0m\n\u001b[1;32m---> 17\u001b[1;33m \u001b[0mapplyfunondict\u001b[0m\u001b[1;33m(\u001b[0m\u001b[0ma\u001b[0m\u001b[1;33m,\u001b[0m \u001b[0mmyfun\u001b[0m\u001b[1;33m)\u001b[0m\u001b[1;33m\u001b[0m\u001b[1;33m\u001b[0m\u001b[0m\n\u001b[0m\u001b[0;32m     18\u001b[0m \u001b[1;33m\u001b[0m\u001b[0m\n",
      "\u001b[1;32m~\\AppData\\Local\\Temp/ipykernel_17216/790925168.py\u001b[0m in \u001b[0;36mapplyfunondict\u001b[1;34m(dict1, fun)\u001b[0m\n\u001b[0;32m     10\u001b[0m             \u001b[0mapplyfunondict\u001b[0m\u001b[1;33m(\u001b[0m\u001b[0mdict1\u001b[0m\u001b[1;33m[\u001b[0m\u001b[0mkey\u001b[0m\u001b[1;33m]\u001b[0m\u001b[1;33m,\u001b[0m \u001b[0mfun\u001b[0m\u001b[1;33m)\u001b[0m\u001b[1;33m\u001b[0m\u001b[1;33m\u001b[0m\u001b[0m\n\u001b[0;32m     11\u001b[0m         \u001b[1;32melse\u001b[0m\u001b[1;33m:\u001b[0m\u001b[1;33m\u001b[0m\u001b[1;33m\u001b[0m\u001b[0m\n\u001b[1;32m---> 12\u001b[1;33m             \u001b[0mnewdict\u001b[0m\u001b[1;33m[\u001b[0m\u001b[0mkey\u001b[0m\u001b[1;33m]\u001b[0m \u001b[1;33m=\u001b[0m \u001b[0mmyfun\u001b[0m\u001b[1;33m(\u001b[0m\u001b[0mdict1\u001b[0m\u001b[1;33m[\u001b[0m\u001b[0mkey\u001b[0m\u001b[1;33m]\u001b[0m\u001b[1;33m)\u001b[0m\u001b[1;33m\u001b[0m\u001b[1;33m\u001b[0m\u001b[0m\n\u001b[0m\u001b[0;32m     13\u001b[0m             \u001b[0mprint\u001b[0m\u001b[1;33m(\u001b[0m\u001b[0mnewdict\u001b[0m\u001b[1;33m[\u001b[0m\u001b[0mkey\u001b[0m\u001b[1;33m]\u001b[0m\u001b[1;33m)\u001b[0m\u001b[1;33m\u001b[0m\u001b[1;33m\u001b[0m\u001b[0m\n\u001b[0;32m     14\u001b[0m \u001b[1;33m\u001b[0m\u001b[0m\n",
      "\u001b[1;32m~\\AppData\\Local\\Temp/ipykernel_17216/790925168.py\u001b[0m in \u001b[0;36mmyfun\u001b[1;34m(elem)\u001b[0m\n\u001b[0;32m      1\u001b[0m \u001b[1;32mdef\u001b[0m \u001b[0mmyfun\u001b[0m\u001b[1;33m(\u001b[0m\u001b[0melem\u001b[0m\u001b[1;33m)\u001b[0m\u001b[1;33m:\u001b[0m\u001b[1;33m\u001b[0m\u001b[1;33m\u001b[0m\u001b[0m\n\u001b[1;32m----> 2\u001b[1;33m     \u001b[1;32mreturn\u001b[0m \u001b[0melem\u001b[0m\u001b[1;33m**\u001b[0m\u001b[1;36m2\u001b[0m\u001b[1;33m\u001b[0m\u001b[1;33m\u001b[0m\u001b[0m\n\u001b[0m\u001b[0;32m      3\u001b[0m \u001b[1;33m\u001b[0m\u001b[0m\n\u001b[0;32m      4\u001b[0m \u001b[0ma\u001b[0m \u001b[1;33m=\u001b[0m \u001b[1;33m{\u001b[0m\u001b[1;34m'apple'\u001b[0m\u001b[1;33m:\u001b[0m \u001b[1;36m6\u001b[0m\u001b[1;33m,\u001b[0m \u001b[1;34m'banana'\u001b[0m\u001b[1;33m:\u001b[0m \u001b[1;36m2\u001b[0m\u001b[1;33m,\u001b[0m \u001b[1;34m'hello'\u001b[0m\u001b[1;33m:\u001b[0m \u001b[1;36m5\u001b[0m\u001b[1;33m,\u001b[0m \u001b[1;34m'world'\u001b[0m\u001b[1;33m:\u001b[0m \u001b[1;36m4\u001b[0m\u001b[1;33m,\u001b[0m \u001b[1;34m'suzanne'\u001b[0m\u001b[1;33m:\u001b[0m \u001b[1;33m{\u001b[0m\u001b[1;34m'orange'\u001b[0m\u001b[1;33m:\u001b[0m \u001b[1;36m10\u001b[0m\u001b[1;33m}\u001b[0m\u001b[1;33m}\u001b[0m\u001b[1;33m\u001b[0m\u001b[1;33m\u001b[0m\u001b[0m\n\u001b[0;32m      5\u001b[0m \u001b[1;33m\u001b[0m\u001b[0m\n",
      "\u001b[1;31mTypeError\u001b[0m: unsupported operand type(s) for ** or pow(): 'dict' and 'int'"
     ]
    }
   ],
   "source": [
    "def myfun(elem):\n",
    "    return elem**2\n",
    "\n",
    "a = {'apple': 6, 'banana': 2, 'hello': 5, 'world': 4, 'suzanne': {'orange': 10}}\n",
    "\n",
    "def applyfunondict(dict1, fun):\n",
    "    newdict = {}\n",
    "    for key in dict1:\n",
    "        if dict1[key] == {}:\n",
    "            applyfunondict(dict1[key], fun)\n",
    "        else:\n",
    "            newdict[key] = myfun(dict1[key])\n",
    "            print(newdict[key])\n",
    "    \n",
    "    return newdict\n",
    "    \n",
    "applyfunondict(a, myfun)\n",
    "        "
   ]
  },
  {
   "cell_type": "code",
   "execution_count": null,
   "id": "22cefba2",
   "metadata": {},
   "outputs": [],
   "source": []
  },
  {
   "cell_type": "code",
   "execution_count": null,
   "id": "fe3add44",
   "metadata": {},
   "outputs": [],
   "source": []
  }
 ],
 "metadata": {
  "kernelspec": {
   "display_name": "Python 3 (ipykernel)",
   "language": "python",
   "name": "python3"
  },
  "language_info": {
   "codemirror_mode": {
    "name": "ipython",
    "version": 3
   },
   "file_extension": ".py",
   "mimetype": "text/x-python",
   "name": "python",
   "nbconvert_exporter": "python",
   "pygments_lexer": "ipython3",
   "version": "3.9.7"
  }
 },
 "nbformat": 4,
 "nbformat_minor": 5
}
