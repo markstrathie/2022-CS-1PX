{
  "nbformat": 4,
  "nbformat_minor": 0,
  "metadata": {
    "colab": {
      "name": "cycle_9_lab_skeleton.ipynb",
      "provenance": [],
      "collapsed_sections": []
    },
    "kernelspec": {
      "name": "python3",
      "display_name": "Python 3"
    },
    "language_info": {
      "name": "python"
    }
  },
  "cells": [
    {
      "cell_type": "markdown",
      "source": [
        "# Cycle 9 Lab - Testing and test-driven development\n",
        "\n",
        "In this lab we'll write some tests for an existing piece of code, as well as write a small bit of new code using the test-driven development approach.  "
      ],
      "metadata": {
        "id": "YEa4MrkTxluo"
      }
    },
    {
      "cell_type": "markdown",
      "source": [
        "Task 1: Writing tests using `assert`s\n",
        "\n",
        "Using `assert`s, write testing functions for the below piece of code.  Make sure you include tests for typical cases, corner cases, and exception cases.  \n",
        "\n",
        "This function should be familiar - it is a binary search.  "
      ],
      "metadata": {
        "id": "O_JYNFZrxy0_"
      }
    },
    {
      "cell_type": "code",
      "source": [
        "def iterative_binary_search(my_list, value):\n",
        "    lo =  0\n",
        "    hi = len(my_list)-1\n",
        "    while lo <= hi:\n",
        "        mid = (lo + hi) // 2\n",
        "        if my_list[mid] < value:\n",
        "            lo = mid + 1\n",
        "        elif value < my_list[mid]:\n",
        "            hi = mid - 1\n",
        "        else:\n",
        "            return mid\n",
        "    return -1\n",
        "\n",
        "\n",
        "# testing framework here:"
      ],
      "metadata": {
        "id": "jf9U4eYoxmJf"
      },
      "execution_count": null,
      "outputs": []
    },
    {
      "cell_type": "markdown",
      "source": [
        "Task 2: Using test-based development\n",
        "\n",
        "In this task I'd like you to use a test-based development approach by reading and understanding existing tests for a function to then write the function.  \n",
        "\n",
        "I have written tests to define the behaviour for a function that takes a dictionary and searches through the dictionaries for keys that map to list values. It sums the values in each list and changes the dictionary so that any key previously mapping to a list now maps to the sum of the elements of the list.  If a list has elements that cannot be added together then the key previously mapping to that list should map to the value `0`.  \n",
        "\n",
        "Here are my tests: "
      ],
      "metadata": {
        "id": "eNiSa4mfyoxE"
      }
    },
    {
      "cell_type": "code",
      "source": [
        "def check_equality(d_1, d_2):\n",
        "  for key in d_1:\n",
        "    if key not in d_2 or d_1[key] != d_2[key]:\n",
        "      return False\n",
        "  for key in d_2:\n",
        "    if key not in d_1 or d_1[key] != d_2[key]:\n",
        "      return False\n",
        "  return True\n",
        "\n",
        "def test_sum_lists_empty_list():\n",
        "  empty_test = {1:[], 2:[1, 2], 3:2}\n",
        "  empty_result = {1:0, 2:3, 3:2}\n",
        "  sum_lists(empty_test)\n",
        "  assert check_equality(empty_test, empty_result)\n",
        "\n",
        "def test_sum_lists_empty_dict():\n",
        "  empty_test = {}\n",
        "  empty_result = {}\n",
        "  sum_lists(empty_test)\n",
        "  assert check_equality(empty_test, empty_result)\n",
        "\n",
        "def test_sum_lists_typical():\n",
        "  test = {'a': [], 'b': [1, 2, 3], 'd':'ahoy'}\n",
        "  result = {'a': 0, 'b': 6, 'd':'ahoy'}\n",
        "  sum_lists(test)\n",
        "  assert check_equality(test, result)\n",
        "\n",
        "def test_sum_lists_cannot_sum():\n",
        "  test = {'b': [1, 2, 3], 'c':[1, 'b']}\n",
        "  result = {'b': 6, 'c': 0}\n",
        "  sum_lists(test)\n",
        "  assert check_equality(test, result)"
      ],
      "metadata": {
        "id": "HGB2sX2isdxE"
      },
      "execution_count": null,
      "outputs": []
    },
    {
      "cell_type": "markdown",
      "source": [
        "Considering these tests, now write the function `sum_lists`"
      ],
      "metadata": {
        "id": "ZIp4V0Pm4DpH"
      }
    },
    {
      "cell_type": "code",
      "source": [
        "def sum_lists(my_dict):\n",
        "  pass"
      ],
      "metadata": {
        "id": "BxM53N1e4I2k"
      },
      "execution_count": null,
      "outputs": []
    },
    {
      "cell_type": "markdown",
      "source": [
        "Task 3: Using test-based development - the whole process\n",
        "\n",
        "In this task I'd like you to use a test-based development approach to first write tests to define the behaviour of a function, and then write the function.  \n",
        "\n",
        "- The function should take a list of strings as a parameter and count how many copies of each string are present ignoring case (that is, upper and lowercase strings that are otherwise the same should be considered the same).  \n",
        "- The function should ignore any items in the list that are not strings.  \n",
        "- The function should return a dictionary in which the keys are strings and the values are integer counts of those strings from the input list\n",
        "\n",
        "You will need to make other design choices - for example what happens if the input is not a list.\n",
        "\n",
        "First write a series of tests for this function, and then write the function itself.  "
      ],
      "metadata": {
        "id": "126-LoQe0Nlc"
      }
    },
    {
      "cell_type": "code",
      "source": [
        "\n"
      ],
      "metadata": {
        "id": "Vo51vTRc5W4p"
      },
      "execution_count": null,
      "outputs": []
    }
  ]
}