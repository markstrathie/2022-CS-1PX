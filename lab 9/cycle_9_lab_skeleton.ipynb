{
 "cells": [
  {
   "cell_type": "markdown",
   "metadata": {
    "id": "YEa4MrkTxluo"
   },
   "source": [
    "# Cycle 9 Lab - Testing and test-driven development\n",
    "\n",
    "In this lab we'll write some tests for an existing piece of code, as well as write a small bit of new code using the test-driven development approach.  "
   ]
  },
  {
   "cell_type": "markdown",
   "metadata": {
    "id": "O_JYNFZrxy0_"
   },
   "source": [
    "Task 1: Writing tests using `assert`s\n",
    "\n",
    "Using `assert`s, write testing functions for the below piece of code.  Make sure you include tests for typical cases, corner cases, and exception cases.  \n",
    "\n",
    "This function should be familiar - it is a binary search.  "
   ]
  },
  {
   "cell_type": "code",
   "execution_count": 1,
   "metadata": {
    "id": "jf9U4eYoxmJf"
   },
   "outputs": [],
   "source": [
    "def iterative_binary_search(my_list, value):\n",
    "    lo =  0\n",
    "    hi = len(my_list)-1\n",
    "    while lo <= hi:\n",
    "        mid = (lo + hi) // 2\n",
    "        if my_list[mid] < value:\n",
    "            lo = mid + 1\n",
    "        elif value < my_list[mid]:\n",
    "            hi = mid - 1\n",
    "        else:\n",
    "            return mid\n",
    "    return -1\n",
    "\n",
    "\n",
    "# testing framework here:\n",
    "def binary_test_typical():\n",
    "    assert iterative_binary_search([1,2,3], 2) == 1\n",
    "    assert iterative_binary_search([1,2,3,4,5,6,7,8,9,99], 1) == 0\n",
    "    assert iterative_binary_search([1,2,3,4,5,6,7,8,9,99], 99) == 9\n",
    "    \n",
    "def binary_test_corner():\n",
    "    assert iterative_binary_search([1,2,3,4,5,6,7,8,9,99], 69) == -1\n",
    "    assert iterative_binary_search([1,2,3,4,5,6,7,8,9,99,232435523,45,[2,134,2,54],43454545,99999994], 4) == 3\n",
    "    \n",
    "def binary_test_exception():\n",
    "        assert iterative_binary_search([], 0) == -1\n",
    "    \n",
    "binary_test_typical()\n",
    "binary_test_corner()\n",
    "binary_test_exception()\n"
   ]
  },
  {
   "cell_type": "markdown",
   "metadata": {
    "id": "eNiSa4mfyoxE"
   },
   "source": [
    "Task 2: Using test-based development\n",
    "\n",
    "In this task I'd like you to use a test-based development approach by reading and understanding existing tests for a function to then write the function.  \n",
    "\n",
    "I have written tests to define the behaviour for a function that takes a dictionary and searches through the dictionaries for keys that map to list values. It sums the values in each list and changes the dictionary so that any key previously mapping to a list now maps to the sum of the elements of the list.  If a list has elements that cannot be added together then the key previously mapping to that list should map to the value `0`.  \n",
    "\n",
    "Here are my tests: "
   ]
  },
  {
   "cell_type": "code",
   "execution_count": 3,
   "metadata": {
    "id": "HGB2sX2isdxE"
   },
   "outputs": [],
   "source": [
    "def check_equality(d_1, d_2):\n",
    "    for key in d_1:\n",
    "        if key not in d_2 or d_1[key] != d_2[key]:\n",
    "            return False\n",
    "    for key in d_2:\n",
    "        if key not in d_1 or d_1[key] != d_2[key]:\n",
    "            return False\n",
    "    return True\n",
    "\n",
    "def test_sum_lists_empty_list():\n",
    "    empty_test = {1:[], 2:[1, 2], 3:2}\n",
    "    empty_result = {1:0, 2:3, 3:2}\n",
    "    sum_lists(empty_test)\n",
    "    assert check_equality(empty_test, empty_result)\n",
    "\n",
    "def test_sum_lists_empty_dict():\n",
    "    empty_test = {}\n",
    "    empty_result = {}\n",
    "    sum_lists(empty_test)\n",
    "    assert check_equality(empty_test, empty_result)\n",
    "\n",
    "def test_sum_lists_typical():\n",
    "    test = {'a': [], 'b': [1, 2, 3], 'd':'ahoy'}\n",
    "    result = {'a': 0, 'b': 6, 'd':'ahoy'}\n",
    "    sum_lists(test)\n",
    "    assert check_equality(test, result)\n",
    "\n",
    "def test_sum_lists_cannot_sum():\n",
    "    test = {'b': [1, 2, 3], 'c':[1, 'b']}\n",
    "    result = {'b': 6, 'c': 0}\n",
    "    sum_lists(test)\n",
    "    assert check_equality(test, result)"
   ]
  },
  {
   "cell_type": "markdown",
   "metadata": {
    "id": "ZIp4V0Pm4DpH"
   },
   "source": [
    "Considering these tests, now write the function `sum_lists`"
   ]
  },
  {
   "cell_type": "code",
   "execution_count": 4,
   "metadata": {
    "id": "BxM53N1e4I2k"
   },
   "outputs": [],
   "source": [
    "def sum_lists(my_dict):\n",
    "    for key in my_dict:\n",
    "        if type(my_dict[key]) != type([]):\n",
    "            my_dict[key] = my_dict[key]\n",
    "        else:\n",
    "            sum = 0\n",
    "            for i in my_dict[key]:\n",
    "                if type(i) != int:\n",
    "                    sum = 0\n",
    "                else:\n",
    "                    sum += i\n",
    "            my_dict[key] = sum\n",
    "    return my_dict\n",
    "\n",
    "test_sum_lists_empty_list()\n",
    "test_sum_lists_empty_dict()\n",
    "test_sum_lists_typical()\n",
    "test_sum_lists_cannot_sum()"
   ]
  },
  {
   "cell_type": "markdown",
   "metadata": {
    "id": "126-LoQe0Nlc"
   },
   "source": [
    "Task 3: Using test-based development - the whole process\n",
    "\n",
    "In this task I'd like you to use a test-based development approach to first write tests to define the behaviour of a function, and then write the function.  \n",
    "\n",
    "- The function should take a list of strings as a parameter and count how many copies of each string are present ignoring case (that is, upper and lowercase strings that are otherwise the same should be considered the same).  \n",
    "- The function should ignore any items in the list that are not strings.  \n",
    "- The function should return a dictionary in which the keys are strings and the values are integer counts of those strings from the input list\n",
    "\n",
    "You will need to make other design choices - for example what happens if the input is not a list.\n",
    "\n",
    "First write a series of tests for this function, and then write the function itself.  "
   ]
  },
  {
   "cell_type": "code",
   "execution_count": 5,
   "metadata": {
    "id": "Vo51vTRc5W4p"
   },
   "outputs": [
    {
     "name": "stdout",
     "output_type": "stream",
     "text": [
      "\n"
     ]
    }
   ],
   "source": [
    "def test_sum_lists_empty_list():\n",
    "    empty_test = ['a','two',3, [4,5], {'a':3}, print()]\n",
    "    empty_result = {'a':1,'two':1}\n",
    "    assert count_strings(empty_test) == empty_result\n",
    "\n",
    "def test_sum_lists_empty_dict():\n",
    "    empty_test = []\n",
    "    empty_result = {}\n",
    "    assert count_strings(empty_test) == empty_result\n",
    "    \n",
    "def test_sum_lists_empty():\n",
    "    empty_test = {}\n",
    "    empty_result = 'Please input a list'\n",
    "    assert count_strings(empty_test) == empty_result\n",
    "\n",
    "def test_sum_lists_typical():\n",
    "    test = ['first','second','third']\n",
    "    result = {'first': 1, 'second':1, 'third': 1}\n",
    "    assert count_strings(test) == result\n",
    "\n",
    "def test_sum_lists_cannot_sum():\n",
    "    test = ['first','second','third','first','second','third', 'third']\n",
    "    result = {'first': 2, 'second': 2, 'third': 3}\n",
    "    assert count_strings(test) == result\n",
    "    \n",
    "def count_strings(my_list):\n",
    "    if type(my_list) == type([]):\n",
    "        strings = {}\n",
    "        for i in my_list:\n",
    "            if type(i) == str:\n",
    "                if i not in strings:\n",
    "                    strings[i] = 1\n",
    "                else:\n",
    "                    strings[i] += 1\n",
    "        return strings\n",
    "    else:\n",
    "        return 'Please input a list'\n",
    "\n",
    "test_sum_lists_empty_list()\n",
    "test_sum_lists_empty_dict()\n",
    "test_sum_lists_empty()\n",
    "test_sum_lists_typical()\n",
    "test_sum_lists_cannot_sum()"
   ]
  },
  {
   "cell_type": "code",
   "execution_count": null,
   "metadata": {},
   "outputs": [],
   "source": []
  }
 ],
 "metadata": {
  "colab": {
   "collapsed_sections": [],
   "name": "cycle_9_lab_skeleton.ipynb",
   "provenance": []
  },
  "kernelspec": {
   "display_name": "Python 3 (ipykernel)",
   "language": "python",
   "name": "python3"
  },
  "language_info": {
   "codemirror_mode": {
    "name": "ipython",
    "version": 3
   },
   "file_extension": ".py",
   "mimetype": "text/x-python",
   "name": "python",
   "nbconvert_exporter": "python",
   "pygments_lexer": "ipython3",
   "version": "3.9.7"
  }
 },
 "nbformat": 4,
 "nbformat_minor": 1
}
