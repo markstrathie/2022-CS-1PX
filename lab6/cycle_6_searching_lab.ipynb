{
 "cells": [
  {
   "cell_type": "code",
   "execution_count": null,
   "metadata": {
    "id": "2zji-49sRrv5"
   },
   "outputs": [],
   "source": []
  },
  {
   "cell_type": "markdown",
   "metadata": {
    "id": "zipIze6PRtgm"
   },
   "source": [
    "# Cycle 6 CS1PX Lab - Searching\n",
    "\n",
    "\n",
    "This week you will work with the algorithms the searching algorithms we discussed in lecture.  I want you to write some new code, as well as to try to produce code that we worked on in class.  I will also ask you to try to identify bugs in a binary search implementation.  It may help to trace the operation of the code by hand, to see where it goes wrong.  \n",
    "\n",
    "\n",
    "\n",
    "\n",
    "### Task 1 - Counting comparisons in linear search\n",
    "1. Implement a simple linear search that takes a list and a value, and returns the index of the value if it is present in the list.  \n",
    "2. Now, add a counter to your function that counts how many items in the list are compared to your target item.\n",
    "3. Generate a 100-item list containing the numbers 0 to 99.  Then generate 100 shuffles of this list (you may with to use the random.shuffle function within the random library - look up what it does and try it out.), and use your code from (b) to count how many comparisons are used to find the item 42 in each of your shuffled lists.  What is the mean of these numbers? Is it as you expect?\n",
    "\n",
    "\n"
   ]
  },
  {
   "cell_type": "code",
   "execution_count": 27,
   "metadata": {
    "id": "SRtU1kH0SMYk"
   },
   "outputs": [
    {
     "name": "stdout",
     "output_type": "stream",
     "text": [
      "48.38\n"
     ]
    }
   ],
   "source": [
    "def simple_search(my_list, value):\n",
    "    count = 0\n",
    "    for i in range(len(my_list)):\n",
    "        count += 1\n",
    "        if my_list[i] == value:\n",
    "            return count\n",
    "\n",
    "my_list = []\n",
    "for i in range(0,99,1):\n",
    "    my_list.append(i)\n",
    "    \n",
    "import random\n",
    "\n",
    "comparisons = []\n",
    "for i in range(100):\n",
    "    random.shuffle(my_list)\n",
    "    comparisons.append(simple_search(my_list,42))\n",
    "    \n",
    "sumlist = 0\n",
    "mean = 0\n",
    "for i in comparisons:\n",
    "    sumlist += i\n",
    "    \n",
    "mean = sumlist / len(comparisons)\n",
    "print(mean)\n",
    "    "
   ]
  },
  {
   "cell_type": "markdown",
   "metadata": {
    "id": "Nx3Fu89jRvtd"
   },
   "source": [
    "### Task 2 - Finding bugs in binary search\n",
    "In the code below there are three copies of iterative binary search, each of which has a bug.  \n",
    "\n",
    "Trace each of these pieces of code, identify the bug, and decide how to fix it.  You will learn more from this exercise if you don’t look at a correct copy of binary search while doing it, and don’t compare across buggy versions until you are done.  I suggest you work on them one at a time.  You should be able to give an input to each piece of buggy code that shows the problem when you trace the operation on that input.\n",
    "\n",
    "\n"
   ]
  },
  {
   "cell_type": "code",
   "execution_count": null,
   "metadata": {
    "id": "Nr8l9AjJSCf9"
   },
   "outputs": [],
   "source": [
    "def iterative_binary_search_buggy1(my_list, value): \n",
    "    lo, hi = 0, len(my_list)-1 \n",
    "    while lo < hi: #equal to. otherwise can miss final value.\n",
    "        mid = (lo + hi) // 2 \n",
    "        if my_list[mid] < value: \n",
    "            lo = mid + 1 \n",
    "        elif value < my_list[mid]: \n",
    "            hi = mid - 1 \n",
    "        else: \n",
    "            return mid \n",
    "    return -1 \n",
    "\n",
    "\n",
    "def iterative_binary_search_buggy2(my_list, value): \n",
    "    lo, hi = 0, len(my_list)-1 \n",
    "    while lo <= hi: \n",
    "        mid = (lo + hi) // 2 \n",
    "        if my_list[mid] < value: \n",
    "            lo = mid + 1 \n",
    "        elif value <= my_list[mid]: #only less than, otherwise will skip value\n",
    "            hi = mid - 1 \n",
    "        else: \n",
    "            return mid \n",
    "    return -1 \n",
    "\n",
    "\n",
    "def iterative_binary_search_buggy3(my_list, value): \n",
    "    lo, hi = 0, len(my_list)-1 \n",
    "    while lo <= hi: \n",
    "        mid = (lo + hi) // 2 \n",
    "        if my_list[mid] <= value: #only less than, otherwise will skip value\n",
    "            lo = mid + 1 \n",
    "        elif value < my_list[mid]: \n",
    "            hi = mid - 1 \n",
    "        else: \n",
    "            return mid \n",
    "    return -1 "
   ]
  },
  {
   "cell_type": "markdown",
   "metadata": {
    "id": "xKlgjNoWRv3W"
   },
   "source": [
    "### Task 3 - Implementing a recursive binary search\n",
    "Using your debugged version of an iterative binary search, try to produce a recursive version of binary search. You will learn more from this exercise if you don’t look at a copy of recursive binary search while doing it.  If you feel stuck, remember how we approached recursive functions in cycle 2 - what are the base cases?  What are the recursive cases? \n",
    "\n",
    "\n"
   ]
  },
  {
   "cell_type": "code",
   "execution_count": 3,
   "metadata": {
    "id": "fbBAbJ4hR4Bt"
   },
   "outputs": [
    {
     "name": "stdout",
     "output_type": "stream",
     "text": [
      "[0, 0, 3, 4, 5, 5, 6, 7, 8, 9, 9, 10, 10, 11, 12, 12, 12, 13, 13, 13, 16, 17, 21, 21, 21, 21, 21, 22, 23, 24, 25, 25, 26, 28, 29, 29, 30, 33, 33, 33, 35, 35, 36, 36, 37, 38, 38, 39, 40, 40, 40, 41, 42, 44, 44, 44, 48, 48, 49, 49, 49, 50, 52, 57, 58, 63, 63, 66, 66, 67, 67, 67, 68, 68, 69, 70, 70, 72, 74, 75, 75, 78, 78, 80, 80, 82, 84, 85, 89, 90, 90, 90, 92, 94, 95, 95, 97, 97, 98, 100]\n"
     ]
    },
    {
     "data": {
      "text/plain": [
       "1"
      ]
     },
     "execution_count": 3,
     "metadata": {},
     "output_type": "execute_result"
    }
   ],
   "source": [
    "def recursive_binary_search(my_list, lo, hi, value):\n",
    "    if len(my_list) < 1:\n",
    "        return -1\n",
    "    if lo > hi:\n",
    "        return -1\n",
    "    \n",
    "    mid = (lo + hi) // 2\n",
    "    mid_value = my_list[mid]\n",
    "    \n",
    "    if mid_value == value:\n",
    "        return mid\n",
    "    elif mid_value < value:\n",
    "        return recursive_binary_search(my_list, (mid + 1), hi, value)\n",
    "    else:\n",
    "        return recursive_binary_search(my_list, lo, (mid - 1), value)\n",
    "\n",
    "import random\n",
    "my_list = []\n",
    "for i in range(0,100,1):\n",
    "    my_list.append(random.randint(0,100))\n",
    "    \n",
    "my_list.sort()\n",
    "print(my_list)\n",
    "\n",
    "my_list = [130, 521, 530, 554, 810, 869, 894, 1008, 1156, 1343, 1471, 1550, 1755, 1971, 2212, 2366, 2515, 2559, 2571, 2682, 2700, 2719, 2940, 3068, 3095, 3163, 3252, 3262, 3281, 3351, 3388, 3441, 3548, 3650, 3714, 3763, 3867, 4035, 4230, 4241, 4406, 4437, 4646, 4892, 4919, 4944, 5000, 5277, 5376, 5439, 5462, 5595, 5634, 5699, 5713, 5734, 5784, 5892, 5943, 6005, 6127, 6133, 6171, 6317, 6320, 6379, 6389, 6633, 6818, 6931, 6934]\n",
    "\n",
    "recursive_binary_search(my_list, 0, len(my_list)-1, 521)"
   ]
  },
  {
   "cell_type": "markdown",
   "metadata": {
    "id": "Dz4NI39HR4bM"
   },
   "source": [
    "### Task 4 \n",
    "1. Using your plotting code from last week, plot the running time of your two binary search implementations on a number of sorted lists of random numbers, both when the target is present in the list and when it is not.\n",
    "2. Say we are given a list that is composed of an increasing sequence of numbers followed by a decreasing sequence.  (e.g. [1, 2, 3, 6, 29, 13, 12, 11, 6]) Can you write an adaptation of binary search that finds the index of the last number in the increasing sequence (here it would be the index of 29)?"
   ]
  },
  {
   "cell_type": "code",
   "execution_count": 5,
   "metadata": {},
   "outputs": [
    {
     "data": {
      "image/png": "[encoded data removed]",
      "text/plain": [
       "<Figure size 432x288 with 1 Axes>"
      ]
     },
     "metadata": {
      "needs_background": "light"
     },
     "output_type": "display_data"
    }
   ],
   "source": [
    "import time\n",
    "import random \n",
    "import matplotlib.pyplot as plt\n",
    "\n",
    "def testRuntimes(functionName, maxSize):\n",
    "    maxN = int(maxSize)\n",
    "    increment = int(maxSize/100)\n",
    "    if increment <1:\n",
    "        increment = 1\n",
    "    \n",
    "    inputs = []\n",
    "    for i in range(1, maxN +1, increment):\n",
    "        res = random.sample(range(0, maxN), i)\n",
    "        res.sort()\n",
    "        inputs.append(res)\n",
    "    plotRuntimes(functionName, inputs)\n",
    "    \n",
    "\n",
    "def plotRuntimes(func, listOfInputs):\n",
    "    times = []\n",
    "    sizes = []\n",
    "    for inputItem in listOfInputs:\n",
    "        sizes.append(len(inputItem))\n",
    "        t = time.process_time()\n",
    "        func(inputItem, 0, len(inputItem)-1, 20)\n",
    "        elapsed_time = time.process_time() - t\n",
    "        times.append(elapsed_time)\n",
    "    plt.plot(sizes, times)\n",
    "    plt.show()\n",
    "    \n",
    "def iterative_binary_search(my_list, value): \n",
    "    lo, hi = 0, len(my_list)-1 \n",
    "    while lo <= hi:\n",
    "        mid = (lo + hi) // 2 \n",
    "        if my_list[mid] < value: \n",
    "            lo = mid + 1 \n",
    "        elif value < my_list[mid]: \n",
    "            hi = mid - 1 \n",
    "        else: \n",
    "            return mid \n",
    "    return -1 \n",
    "    \n",
    "testRuntimes(recursive_binary_search, 5000)"
   ]
  },
  {
   "cell_type": "markdown",
   "metadata": {},
   "source": [
    "Say we are given a list that is composed of an increasing sequence of numbers followed by a decreasing sequence. (e.g. [1, 2, 3, 6, 29, 13, 12, 11, 6]) Can you write an adaptation of binary search that finds the index of the last number in the increasing sequence (here it would be the index of 29)?"
   ]
  },
  {
   "cell_type": "code",
   "execution_count": 5,
   "metadata": {},
   "outputs": [
    {
     "data": {
      "text/plain": [
       "8"
      ]
     },
     "execution_count": 5,
     "metadata": {},
     "output_type": "execute_result"
    }
   ],
   "source": [
    "def recursive_binary_search(my_list, lo, hi):\n",
    "    if len(my_list) < 1:\n",
    "        return -1\n",
    "    if lo > hi:\n",
    "        return -1\n",
    "    \n",
    "    mid = (lo + hi) // 2\n",
    "    mid_value = my_list[mid]\n",
    "    \n",
    "    if mid_value == value:\n",
    "        return mid\n",
    "    elif mid_value < value:\n",
    "        return recursive_binary_search(my_list, (mid + 1), hi, value)\n",
    "    else:\n",
    "        return recursive_binary_search(my_list, lo, (mid - 1), value)\n",
    "    \n",
    "def increasing_search(my_list, lo, hi):\n",
    "    if len(my_list) < 1:\n",
    "        return -1\n",
    "    if lo > hi:\n",
    "        return -1\n",
    "    \n",
    "    mid = (lo + hi) // 2\n",
    "    mid_value = my_list[mid]\n",
    "    \n",
    "    if mid_value > my_list[mid-1] and mid_value > my_list[mid+1]:\n",
    "        return mid\n",
    "    elif mid_value < my_list[mid+1]:\n",
    "        return increasing_search(my_list, mid, hi)\n",
    "    elif my_list[mid+1] < mid_value:\n",
    "        return increasing_search(my_list, lo, mid)\n",
    "    \n",
    "my_list = [1, 2, 3, 6, 7, 8, 9, 19, 29, 13, 12, 11, 6]\n",
    "increasing_search(my_list, 0, len(my_list)-1)"
   ]
  }
 ],
 "metadata": {
  "colab": {
   "collapsed_sections": [],
   "name": "cycle_6_searching_lab.ipynb",
   "provenance": []
  },
  "kernelspec": {
   "display_name": "Python 3 (ipykernel)",
   "language": "python",
   "name": "python3"
  },
  "language_info": {
   "codemirror_mode": {
    "name": "ipython",
    "version": 3
   },
   "file_extension": ".py",
   "mimetype": "text/x-python",
   "name": "python",
   "nbconvert_exporter": "python",
   "pygments_lexer": "ipython3",
   "version": "3.9.7"
  }
 },
 "nbformat": 4,
 "nbformat_minor": 1
}
