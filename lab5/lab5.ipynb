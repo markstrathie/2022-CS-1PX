{
 "cells": [
  {
   "cell_type": "markdown",
   "id": "16feba20",
   "metadata": {},
   "source": [
    "### Task 0:\n",
    " Write a higher-order function `plotRuntimes` that takes as a parameter a function `func`, and a list of lists that will be inputs for `func`.  Your function `plotRuntimes` should call `func` on each of the provided inputs, and record the running time. You should collect those runtimes, and plot them using `matplotlib`, with the runtimes on the y-axis and the sizes of the lists on the x-axis.  Save or display the figure.\n",
    "\n",
    "Write your code in the `lab_code_complexity.py` file, and call the `testRuntimes` function to test it."
   ]
  },
  {
   "cell_type": "code",
   "execution_count": 6,
   "id": "c71fc6da",
   "metadata": {},
   "outputs": [
    {
     "data": {
      "image/png": "[encoded data removed]",
      "text/plain": [
       "<Figure size 432x288 with 1 Axes>"
      ]
     },
     "metadata": {
      "needs_background": "light"
     },
     "output_type": "display_data"
    }
   ],
   "source": [
    "import time\n",
    "import random \n",
    "import matplotlib.pyplot as plt\n",
    "\n",
    "def traversalFunction(myList):\n",
    "    for i in range(len(myList)):\n",
    "        myList[i] = myList[i] +3\n",
    "\n",
    "\n",
    "def doubleTraversalFunction(myList):\n",
    "    for i in range(len(myList)):\n",
    "      for j in range(len(myList)):\n",
    "        myList[i] = myList[i] +3\n",
    "\n",
    "\n",
    "def sillyFunction(myList):\n",
    "  return myList[0]\n",
    "\n",
    "def functionAhoy(myList):\n",
    "  items = []\n",
    "  for item in myList:\n",
    "    for i in range(len(myList)):\n",
    "      for j in range(i, myList):\n",
    "        items.append(str(item) + str(i*j) + 'ahoy')\n",
    "  return items\n",
    "\n",
    "def functionFoo(myList):\n",
    "    newList = []\n",
    "    for i in range(7):\n",
    "        for j in range(len(myList)):\n",
    "            newList.append(i*myList[j])\n",
    "\n",
    "\n",
    "\n",
    "def testRuntimes(functionName, maxSize):\n",
    "    maxN = int(maxSize)\n",
    "    increment = int(maxSize/100)\n",
    "    if increment <1:\n",
    "        increment = 1\n",
    "    \n",
    "    inputs = []\n",
    "    for i in range(0, maxN +1, increment):\n",
    "        res = random.sample(range(0, maxN), i) \n",
    "        inputs.append(res)\n",
    "    plotRuntimes(traversalFunction, inputs)\n",
    "    \n",
    "\n",
    "def plotRuntimes(func, listOfInputs):\n",
    "    times = []\n",
    "    sizes = []\n",
    "    for inputItem in listOfInputs:\n",
    "        sizes.append(len(inputItem))\n",
    "        t = time.process_time()\n",
    "        func(inputItem)\n",
    "        elapsed_time = time.process_time() - t\n",
    "        times.append(elapsed_time)\n",
    "    plt.plot(sizes, times)\n",
    "    plt.xlabel('size of input')\n",
    "    plt.ylabel('runtime')\n",
    "    plt.show()\n",
    "    return None\n",
    "        \n",
    "\n",
    "# this call tests the runtime of the input function on some random\n",
    "# lists of numbers up to maxListSize\n",
    "# It won't work until you've implemented plotRuntimes\n",
    "testRuntimes(functionAhoy, 100)"
   ]
  },
  {
   "cell_type": "markdown",
   "id": "9e7157ce",
   "metadata": {},
   "source": [
    "### Task 1 - Plotting runtimes\n",
    "\n",
    "Here you will write a few simple functions and plot their runtimes.\n",
    "\n",
    "1. Write a function that loops over the elements of a list and finds their sum. Plot its runtime - what big-O complexity do you think this looks like?\n",
    "2. Write a function that loops over the elements of a list and finds the maximum value. Plot its runtime - what big-O complexity do you think this looks like?\n",
    "3. Write a function that uses a nested loop to check, for each element of a list, if it is the only occurrence of that item in the list.  Plot its runtime - what big-O complexity do you think this looks like?\n",
    "4. Plot the runtime complexities of the provided functions `doubleTraversalFunction, traversalFunction, sillyFunction, functionAhoy` and `functionFoo`.  What do you think their runtime complexity is?\n",
    "\n",
    "It can be hard to tell from the plots sometimes! We will now look at the code directly.  "
   ]
  },
  {
   "cell_type": "code",
   "execution_count": 4,
   "id": "8edf9f6a",
   "metadata": {},
   "outputs": [
    {
     "data": {
      "image/png": "[encoded data removed]",
      "text/plain": [
       "<Figure size 432x288 with 1 Axes>"
      ]
     },
     "metadata": {
      "needs_background": "light"
     },
     "output_type": "display_data"
    }
   ],
   "source": [
    "def sumList(myList):\n",
    "    sum = 0\n",
    "    for item in myList:\n",
    "        sum += item\n",
    "    return sum\n",
    "\n",
    "def findMax(myList):\n",
    "    max = 0\n",
    "    for item in myList:\n",
    "        if item > max:\n",
    "            max = item\n",
    "    return max\n",
    "\n",
    "def duplicateCheck(myList):\n",
    "    duplicate = False\n",
    "    for item in myList:\n",
    "        count = 0\n",
    "        for i in myList:\n",
    "            if i == item:\n",
    "                count += 1\n",
    "            if count > 1:\n",
    "                duplicate = True\n",
    "    return duplicate\n",
    "\n",
    "listOfInputs = []\n",
    "for i in range(100, 10000, 10):\n",
    "    listOfInputs.append([1]*i)\n",
    "    \n",
    "plotRuntimes(traversalFunction, listOfInputs)"
   ]
  },
  {
   "cell_type": "markdown",
   "id": "3b88bd55",
   "metadata": {},
   "source": [
    "Task 2 - reasoning about runtimes\n",
    "\n",
    "1. For each of the functions you plotted runtimes for, inspect the code and try to reason about the big-O runtime complexity of that code. \n",
    "2. What is the big-O complexity of running `traversalFunction` and then `sillyFunction`?\n",
    "3. What is the big-O complexity of running `functionAhoy` and then `functionFoo`?\n",
    "4. What is the big-O complexity of the following function:\n",
    "\n",
    "\n",
    "```\n",
    "def practiceFunction(myList):\n",
    "   for i in range(len(myList)):\n",
    "     traversalFunction(myList)"
   ]
  },
  {
   "cell_type": "markdown",
   "id": "ee5a8869",
   "metadata": {},
   "source": [
    "2. traversalFunction is constant. O(k). sillyFunction is linear. O(n).\n",
    "3. functionAhoy is O(n^3) and functionFoo is n^2.\n",
    "4. n^2"
   ]
  },
  {
   "cell_type": "code",
   "execution_count": null,
   "id": "96de4a93",
   "metadata": {},
   "outputs": [],
   "source": []
  }
 ],
 "metadata": {
  "kernelspec": {
   "display_name": "Python 3 (ipykernel)",
   "language": "python",
   "name": "python3"
  },
  "language_info": {
   "codemirror_mode": {
    "name": "ipython",
    "version": 3
   },
   "file_extension": ".py",
   "mimetype": "text/x-python",
   "name": "python",
   "nbconvert_exporter": "python",
   "pygments_lexer": "ipython3",
   "version": "3.9.7"
  }
 },
 "nbformat": 4,
 "nbformat_minor": 5
}
