{
 "cells": [
  {
   "cell_type": "markdown",
   "id": "22570146",
   "metadata": {},
   "source": [
    "### Task 0:\n",
    " Write a higher-order function `plotRuntimes` that takes as a parameter a function `func`, and a list of lists that will be inputs for `func`.  Your function `plotRuntimes` should call `func` on each of the provided inputs, and record the running time. You should collect those runtimes, and plot them using `matplotlib`, with the runtimes on the y-axis and the sizes of the lists on the x-axis.  Save or display the figure.\n",
    "\n",
    "Write your code in the `lab_code_complexity.py` file, and call the `testRuntimes` function to test it."
   ]
  },
  {
   "cell_type": "code",
   "execution_count": 5,
   "id": "b83c2ada",
   "metadata": {},
   "outputs": [
    {
     "data": {
      "image/png": "[encoded data removed]",
      "text/plain": [
       "<Figure size 432x288 with 1 Axes>"
      ]
     },
     "metadata": {
      "needs_background": "light"
     },
     "output_type": "display_data"
    }
   ],
   "source": [
    "import time\n",
    "import random \n",
    "import matplotlib.pyplot as plt\n",
    "\n",
    "def traversalFunction(myList):\n",
    "    for i in range(len(myList)):\n",
    "        myList[i] = myList[i] +3\n",
    "\n",
    "\n",
    "def doubleTraversalFunction(myList):\n",
    "    for i in range(len(myList)):\n",
    "      for j in range(len(myList)):\n",
    "        myList[i] = myList[i] +3\n",
    "\n",
    "\n",
    "def sillyFunction(myList):\n",
    "  return myList[0]\n",
    "\n",
    "def functionAhoy(myList):\n",
    "  items = []\n",
    "  for item in myList:\n",
    "    for i in range(len(myList)):\n",
    "      for j in range(i, myList):\n",
    "        items.append(str(item) + str(i*j) + 'ahoy')\n",
    "  return items\n",
    "\n",
    "def functionFoo(myList):\n",
    "  newList = []\n",
    "  for i in range(7):\n",
    "    for j in range(len(myList)):\n",
    "      newList.append(i*myList[j])\n",
    "\n",
    "\n",
    "\n",
    "def testRuntimes(functionName, maxSize):\n",
    "    maxN = int(maxSize)\n",
    "    increment = int(maxSize/100)\n",
    "    if increment <1:\n",
    "      increment = 1\n",
    "    \n",
    "    inputs = []\n",
    "    for i in range(0, maxN +1, increment):\n",
    "        res = random.sample(range(0, maxN), i) \n",
    "        inputs.append(res)\n",
    "    plotRuntimes(traversalFunction, inputs)\n",
    "    \n",
    "\n",
    "def plotRuntimes(func, listOfInputs):\n",
    "    times = []\n",
    "    sizes = []\n",
    "    for inputItem in listOfInputs:\n",
    "        sizes.append(len(inputItem))\n",
    "        t = time.process_time()\n",
    "        func(inputItem)\n",
    "        elapsed_time = time.process_time() - t\n",
    "        times.append(elapsed_time)\n",
    "    plt.plot(sizes, times)\n",
    "    plt.xlabel('size of input')\n",
    "    plt.ylabel('runtime')\n",
    "    plt.show()\n",
    "    return None\n",
    "        \n",
    "\n",
    "# this call tests the runtime of the input function on some random\n",
    "# lists of numbers up to maxListSize\n",
    "# It won't work until you've implemented plotRuntimes\n",
    "testRuntimes(functionAhoy, maxListSize)"
   ]
  },
  {
   "cell_type": "code",
   "execution_count": null,
   "id": "b5fb7059",
   "metadata": {},
   "outputs": [],
   "source": []
  }
 ],
 "metadata": {
  "kernelspec": {
   "display_name": "Python 3 (ipykernel)",
   "language": "python",
   "name": "python3"
  },
  "language_info": {
   "codemirror_mode": {
    "name": "ipython",
    "version": 3
   },
   "file_extension": ".py",
   "mimetype": "text/x-python",
   "name": "python",
   "nbconvert_exporter": "python",
   "pygments_lexer": "ipython3",
   "version": "3.9.7"
  }
 },
 "nbformat": 4,
 "nbformat_minor": 5
}
